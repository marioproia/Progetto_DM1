{
 "cells": [
  {
   "cell_type": "code",
   "execution_count": 19,
   "metadata": {},
   "outputs": [
    {
     "data": {
      "text/html": [
       "<div>\n",
       "<style scoped>\n",
       "    .dataframe tbody tr th:only-of-type {\n",
       "        vertical-align: middle;\n",
       "    }\n",
       "\n",
       "    .dataframe tbody tr th {\n",
       "        vertical-align: top;\n",
       "    }\n",
       "\n",
       "    .dataframe thead th {\n",
       "        text-align: right;\n",
       "    }\n",
       "</style>\n",
       "<table border=\"1\" class=\"dataframe\">\n",
       "  <thead>\n",
       "    <tr style=\"text-align: right;\">\n",
       "      <th></th>\n",
       "      <th>Age</th>\n",
       "      <th>Attrition</th>\n",
       "      <th>BusinessTravel</th>\n",
       "      <th>Department</th>\n",
       "      <th>DistanceFromHome</th>\n",
       "      <th>Education</th>\n",
       "      <th>EducationField</th>\n",
       "      <th>HourlyRate</th>\n",
       "      <th>EnvironmentSatisfaction</th>\n",
       "      <th>Gender</th>\n",
       "      <th>...</th>\n",
       "      <th>YearsAtCompany</th>\n",
       "      <th>YearsSinceLastPromotion</th>\n",
       "      <th>YearsInCurrentRole</th>\n",
       "      <th>YearsWithCurrManager</th>\n",
       "      <th>TWYears_zscore</th>\n",
       "      <th>YearsAtCompany_zscore</th>\n",
       "      <th>YearsInCurrentRole_zscore</th>\n",
       "      <th>YearsWithCurrManager_zscore</th>\n",
       "      <th>YearsSinceLastPromotion_zscore</th>\n",
       "      <th>Cluster</th>\n",
       "    </tr>\n",
       "  </thead>\n",
       "  <tbody>\n",
       "    <tr>\n",
       "      <th>0</th>\n",
       "      <td>27.0</td>\n",
       "      <td>Yes</td>\n",
       "      <td>1</td>\n",
       "      <td>Sales</td>\n",
       "      <td>Far</td>\n",
       "      <td>2</td>\n",
       "      <td>Medical</td>\n",
       "      <td>59</td>\n",
       "      <td>1</td>\n",
       "      <td>1</td>\n",
       "      <td>...</td>\n",
       "      <td>2.0</td>\n",
       "      <td>2</td>\n",
       "      <td>2</td>\n",
       "      <td>2</td>\n",
       "      <td>-0.563330</td>\n",
       "      <td>-0.800946</td>\n",
       "      <td>-0.624962</td>\n",
       "      <td>-0.604525</td>\n",
       "      <td>-0.063256</td>\n",
       "      <td>0</td>\n",
       "    </tr>\n",
       "    <tr>\n",
       "      <th>1</th>\n",
       "      <td>30.0</td>\n",
       "      <td>Yes</td>\n",
       "      <td>2</td>\n",
       "      <td>Sales</td>\n",
       "      <td>Far</td>\n",
       "      <td>4</td>\n",
       "      <td>Marketing</td>\n",
       "      <td>70</td>\n",
       "      <td>1</td>\n",
       "      <td>1</td>\n",
       "      <td>...</td>\n",
       "      <td>8.0</td>\n",
       "      <td>0</td>\n",
       "      <td>0</td>\n",
       "      <td>0</td>\n",
       "      <td>-0.176129</td>\n",
       "      <td>0.739024</td>\n",
       "      <td>-1.177748</td>\n",
       "      <td>-1.165773</td>\n",
       "      <td>-0.682655</td>\n",
       "      <td>0</td>\n",
       "    </tr>\n",
       "    <tr>\n",
       "      <th>2</th>\n",
       "      <td>56.0</td>\n",
       "      <td>No</td>\n",
       "      <td>0</td>\n",
       "      <td>Research &amp; Development</td>\n",
       "      <td>Near</td>\n",
       "      <td>4</td>\n",
       "      <td>Technical Degree</td>\n",
       "      <td>60</td>\n",
       "      <td>4</td>\n",
       "      <td>1</td>\n",
       "      <td>...</td>\n",
       "      <td>12.0</td>\n",
       "      <td>1</td>\n",
       "      <td>3</td>\n",
       "      <td>4</td>\n",
       "      <td>0.082005</td>\n",
       "      <td>1.765670</td>\n",
       "      <td>-0.348570</td>\n",
       "      <td>-0.043277</td>\n",
       "      <td>-0.372956</td>\n",
       "      <td>2</td>\n",
       "    </tr>\n",
       "    <tr>\n",
       "      <th>3</th>\n",
       "      <td>41.0</td>\n",
       "      <td>Yes</td>\n",
       "      <td>2</td>\n",
       "      <td>Human Resources</td>\n",
       "      <td>Far</td>\n",
       "      <td>5</td>\n",
       "      <td>Human Resources</td>\n",
       "      <td>89</td>\n",
       "      <td>4</td>\n",
       "      <td>1</td>\n",
       "      <td>...</td>\n",
       "      <td>2.0</td>\n",
       "      <td>0</td>\n",
       "      <td>0</td>\n",
       "      <td>0</td>\n",
       "      <td>-1.208665</td>\n",
       "      <td>-0.800946</td>\n",
       "      <td>-1.177748</td>\n",
       "      <td>-1.165773</td>\n",
       "      <td>-0.682655</td>\n",
       "      <td>2</td>\n",
       "    </tr>\n",
       "    <tr>\n",
       "      <th>4</th>\n",
       "      <td>42.0</td>\n",
       "      <td>No</td>\n",
       "      <td>2</td>\n",
       "      <td>Research &amp; Development</td>\n",
       "      <td>Near</td>\n",
       "      <td>3</td>\n",
       "      <td>Life Sciences</td>\n",
       "      <td>76</td>\n",
       "      <td>4</td>\n",
       "      <td>1</td>\n",
       "      <td>...</td>\n",
       "      <td>5.0</td>\n",
       "      <td>1</td>\n",
       "      <td>3</td>\n",
       "      <td>0</td>\n",
       "      <td>0.082005</td>\n",
       "      <td>-0.030961</td>\n",
       "      <td>-0.348570</td>\n",
       "      <td>-1.165773</td>\n",
       "      <td>-0.372956</td>\n",
       "      <td>0</td>\n",
       "    </tr>\n",
       "  </tbody>\n",
       "</table>\n",
       "<p>5 rows × 31 columns</p>\n",
       "</div>"
      ],
      "text/plain": [
       "    Age Attrition  BusinessTravel              Department DistanceFromHome  \\\n",
       "0  27.0       Yes               1                   Sales              Far   \n",
       "1  30.0       Yes               2                   Sales              Far   \n",
       "2  56.0        No               0  Research & Development             Near   \n",
       "3  41.0       Yes               2         Human Resources              Far   \n",
       "4  42.0        No               2  Research & Development             Near   \n",
       "\n",
       "   Education    EducationField  HourlyRate  EnvironmentSatisfaction  Gender  \\\n",
       "0          2           Medical          59                        1       1   \n",
       "1          4         Marketing          70                        1       1   \n",
       "2          4  Technical Degree          60                        4       1   \n",
       "3          5   Human Resources          89                        4       1   \n",
       "4          3     Life Sciences          76                        4       1   \n",
       "\n",
       "   ...  YearsAtCompany  YearsSinceLastPromotion YearsInCurrentRole  \\\n",
       "0  ...             2.0                        2                  2   \n",
       "1  ...             8.0                        0                  0   \n",
       "2  ...            12.0                        1                  3   \n",
       "3  ...             2.0                        0                  0   \n",
       "4  ...             5.0                        1                  3   \n",
       "\n",
       "   YearsWithCurrManager  TWYears_zscore  YearsAtCompany_zscore  \\\n",
       "0                     2       -0.563330              -0.800946   \n",
       "1                     0       -0.176129               0.739024   \n",
       "2                     4        0.082005               1.765670   \n",
       "3                     0       -1.208665              -0.800946   \n",
       "4                     0        0.082005              -0.030961   \n",
       "\n",
       "   YearsInCurrentRole_zscore  YearsWithCurrManager_zscore  \\\n",
       "0                  -0.624962                    -0.604525   \n",
       "1                  -1.177748                    -1.165773   \n",
       "2                  -0.348570                    -0.043277   \n",
       "3                  -1.177748                    -1.165773   \n",
       "4                  -0.348570                    -1.165773   \n",
       "\n",
       "   YearsSinceLastPromotion_zscore  Cluster  \n",
       "0                       -0.063256        0  \n",
       "1                       -0.682655        0  \n",
       "2                       -0.372956        2  \n",
       "3                       -0.682655        2  \n",
       "4                       -0.372956        0  \n",
       "\n",
       "[5 rows x 31 columns]"
      ]
     },
     "execution_count": 19,
     "metadata": {},
     "output_type": "execute_result"
    }
   ],
   "source": [
    "import math\n",
    "import pandas as pd\n",
    "import numpy as np\n",
    "from numpy import asarray\n",
    "import matplotlib.pyplot as plt\n",
    "from matplotlib import figure\n",
    "import seaborn as sn\n",
    "from sklearn.linear_model import LinearRegression\n",
    "from sklearn.neighbors import kneighbors_graph\n",
    "from sklearn.cluster import KMeans, DBSCAN, AgglomerativeClustering\n",
    "from sklearn.preprocessing import MinMaxScaler, StandardScaler, RobustScaler, LabelEncoder, OneHotEncoder \n",
    "from sklearn.metrics import silhouette_samples, silhouette_score\n",
    "from scipy.spatial.distance import pdist, squareform\n",
    "from scipy.stats import mode\n",
    "from scipy.cluster.hierarchy import linkage, dendrogram\n",
    "from collections import Counter\n",
    "from scipy import stats\n",
    "%matplotlib inline\n",
    "\n",
    "df = pd.read_csv(\"https://raw.githubusercontent.com/marioproia/Progetto_DM1/master/df.csv?token=ANVE7JPCOLZHGHDKT4TT4KS7V23N6\")\n",
    "df.head()"
   ]
  },
  {
   "cell_type": "code",
   "execution_count": null,
   "metadata": {},
   "outputs": [],
   "source": []
  },
  {
   "cell_type": "markdown",
   "metadata": {},
   "source": [
    "# HIERARCHICAL CLUSTERING"
   ]
  },
  {
   "cell_type": "code",
   "execution_count": 2,
   "metadata": {
    "scrolled": true
   },
   "outputs": [
    {
     "data": {
      "text/html": [
       "<div>\n",
       "<style scoped>\n",
       "    .dataframe tbody tr th:only-of-type {\n",
       "        vertical-align: middle;\n",
       "    }\n",
       "\n",
       "    .dataframe tbody tr th {\n",
       "        vertical-align: top;\n",
       "    }\n",
       "\n",
       "    .dataframe thead th {\n",
       "        text-align: right;\n",
       "    }\n",
       "</style>\n",
       "<table border=\"1\" class=\"dataframe\">\n",
       "  <thead>\n",
       "    <tr style=\"text-align: right;\">\n",
       "      <th></th>\n",
       "      <th>Age</th>\n",
       "      <th>MonthlyIncome</th>\n",
       "      <th>HourlyRate</th>\n",
       "    </tr>\n",
       "  </thead>\n",
       "  <tbody>\n",
       "    <tr>\n",
       "      <th>0</th>\n",
       "      <td>27.0</td>\n",
       "      <td>4298.0</td>\n",
       "      <td>59</td>\n",
       "    </tr>\n",
       "    <tr>\n",
       "      <th>1</th>\n",
       "      <td>30.0</td>\n",
       "      <td>5304.0</td>\n",
       "      <td>70</td>\n",
       "    </tr>\n",
       "    <tr>\n",
       "      <th>2</th>\n",
       "      <td>56.0</td>\n",
       "      <td>6306.0</td>\n",
       "      <td>60</td>\n",
       "    </tr>\n",
       "    <tr>\n",
       "      <th>3</th>\n",
       "      <td>41.0</td>\n",
       "      <td>6430.0</td>\n",
       "      <td>89</td>\n",
       "    </tr>\n",
       "    <tr>\n",
       "      <th>4</th>\n",
       "      <td>42.0</td>\n",
       "      <td>2766.0</td>\n",
       "      <td>76</td>\n",
       "    </tr>\n",
       "  </tbody>\n",
       "</table>\n",
       "</div>"
      ],
      "text/plain": [
       "    Age  MonthlyIncome  HourlyRate\n",
       "0  27.0         4298.0          59\n",
       "1  30.0         5304.0          70\n",
       "2  56.0         6306.0          60\n",
       "3  41.0         6430.0          89\n",
       "4  42.0         2766.0          76"
      ]
     },
     "execution_count": 2,
     "metadata": {},
     "output_type": "execute_result"
    }
   ],
   "source": [
    "clustering = df[[\"Age\", \"MonthlyIncome\", \"HourlyRate\"]]\n",
    "clustering.head()"
   ]
  },
  {
   "cell_type": "code",
   "execution_count": 3,
   "metadata": {},
   "outputs": [],
   "source": [
    "# hierarchical clustering: y_axis=distance or dissimilarity between clusters, x_axis=objects and clusters\n",
    "#Cards that join together sooner are more similar to each other than those that join together later\n",
    "connectivity = kneighbors_graph(clustering, n_neighbors=100, include_self=False)\n",
    "connectivity = 0.5 * (connectivity + connectivity.T)"
   ]
  },
  {
   "cell_type": "code",
   "execution_count": 4,
   "metadata": {},
   "outputs": [
    {
     "data": {
      "text/plain": [
       "array([[-0.9195693 , -0.17168356, -0.19444444],\n",
       "       [-0.64684203,  0.13265769,  0.11111111],\n",
       "       [ 1.71679433,  0.43578884, -0.16666667],\n",
       "       ...,\n",
       "       [ 0.0804307 ,  0.14445621,  0.66666667],\n",
       "       [-0.01047839, -0.83209802,  0.83333333],\n",
       "       [-0.37411476,  0.0851611 ,  0.27777778]])"
      ]
     },
     "execution_count": 4,
     "metadata": {},
     "output_type": "execute_result"
    }
   ],
   "source": [
    "scaler = RobustScaler()\n",
    "X = scaler.fit_transform(clustering.values)\n",
    "scaler.transform(clustering.values)"
   ]
  },
  {
   "cell_type": "code",
   "execution_count": null,
   "metadata": {},
   "outputs": [],
   "source": []
  },
  {
   "cell_type": "code",
   "execution_count": 5,
   "metadata": {},
   "outputs": [
    {
     "name": "stdout",
     "output_type": "stream",
     "text": [
      "Ward\n",
      "Labels:  {0: 681, 1: 168, 2: 104, 3: 335, 4: 117, 5: 54}\n",
      "Silhouette:  0.6398323070543716\n"
     ]
    }
   ],
   "source": [
    "print('Ward')\n",
    "ward = AgglomerativeClustering(n_clusters=6, linkage='ward', affinity='euclidean',\n",
    "                                   connectivity=connectivity)\n",
    "ward.fit(clustering)\n",
    "\n",
    "hist, bins = np.histogram(ward.labels_, bins=range(0, len(set(ward.labels_)) + 1))\n",
    "print('Labels: ', dict(zip(bins, hist)))\n",
    "print('Silhouette: ', silhouette_score(clustering, ward.labels_))"
   ]
  },
  {
   "cell_type": "code",
   "execution_count": 17,
   "metadata": {},
   "outputs": [
    {
     "data": {
      "image/png": "[encoded data removed]",
      "text/plain": [
       "<Figure size 432x288 with 1 Axes>"
      ]
     },
     "metadata": {
      "needs_background": "light"
     },
     "output_type": "display_data"
    }
   ],
   "source": [
    "data_dist = pdist(X, metric='euclidean')\n",
    "data_link = linkage(data_dist, method='ward', metric='euclidean')\n",
    "res = dendrogram(data_link, truncate_mode=\"lastp\")"
   ]
  },
  {
   "cell_type": "code",
   "execution_count": null,
   "metadata": {},
   "outputs": [],
   "source": []
  },
  {
   "cell_type": "code",
   "execution_count": null,
   "metadata": {},
   "outputs": [],
   "source": []
  },
  {
   "cell_type": "code",
   "execution_count": 7,
   "metadata": {},
   "outputs": [
    {
     "name": "stdout",
     "output_type": "stream",
     "text": [
      "Average linkage\n",
      "Labels:  {0: 1284, 1: 46, 2: 54, 3: 50, 4: 6, 5: 19}\n",
      "Silhouette:  0.5942718065496041\n"
     ]
    }
   ],
   "source": [
    "print('Average linkage')\n",
    "average_linkage = AgglomerativeClustering(n_clusters=6, linkage='average', affinity='manhattan', connectivity=connectivity)\n",
    "average_linkage.fit(clustering)\n",
    "\n",
    "hist, bins = np.histogram(average_linkage.labels_, \n",
    "                          bins=range(0, len(set(average_linkage.labels_)) + 1))\n",
    "\n",
    "print('Labels: ', dict(zip(bins, hist)))\n",
    "print('Silhouette: ', silhouette_score(clustering, average_linkage.labels_))"
   ]
  },
  {
   "cell_type": "code",
   "execution_count": 8,
   "metadata": {},
   "outputs": [
    {
     "data": {
      "image/png": "[encoded data removed]",
      "text/plain": [
       "<Figure size 432x288 with 1 Axes>"
      ]
     },
     "metadata": {
      "needs_background": "light"
     },
     "output_type": "display_data"
    }
   ],
   "source": [
    "data_dist = pdist(X, metric='euclidean')\n",
    "data_link = linkage(data_dist, method='average', metric='euclidean')\n",
    "res = dendrogram(data_link, truncate_mode=\"lastp\")"
   ]
  },
  {
   "cell_type": "code",
   "execution_count": null,
   "metadata": {},
   "outputs": [],
   "source": []
  },
  {
   "cell_type": "code",
   "execution_count": null,
   "metadata": {},
   "outputs": [],
   "source": []
  },
  {
   "cell_type": "code",
   "execution_count": 9,
   "metadata": {},
   "outputs": [
    {
     "name": "stdout",
     "output_type": "stream",
     "text": [
      "Complete linkage\n",
      "Labels:  {0: 49, 1: 37, 2: 1284, 3: 46, 4: 22, 5: 21}\n",
      "Silhouette:  0.5983235932434062\n"
     ]
    }
   ],
   "source": [
    "print('Complete linkage')\n",
    "complete_linkage = AgglomerativeClustering(n_clusters=6, linkage='complete', affinity='l1',\n",
    "                                              connectivity=connectivity)\n",
    "complete_linkage.fit(clustering)\n",
    "hist, bins = np.histogram(complete_linkage.labels_, \n",
    "                          bins=range(0, len(set(complete_linkage.labels_)) + 1))\n",
    "\n",
    "print('Labels: ', dict(zip(bins, hist)))\n",
    "print('Silhouette: ', silhouette_score(clustering, complete_linkage.labels_))"
   ]
  },
  {
   "cell_type": "code",
   "execution_count": 10,
   "metadata": {},
   "outputs": [
    {
     "data": {
      "image/png": "[encoded data removed]",
      "text/plain": [
       "<Figure size 432x288 with 1 Axes>"
      ]
     },
     "metadata": {
      "needs_background": "light"
     },
     "output_type": "display_data"
    }
   ],
   "source": [
    "data_dist = pdist(X, metric='euclidean')\n",
    "data_link = linkage(data_dist, method='complete', metric='euclidean')\n",
    "res = dendrogram(data_link, truncate_mode=\"lastp\")"
   ]
  },
  {
   "cell_type": "code",
   "execution_count": null,
   "metadata": {},
   "outputs": [],
   "source": []
  },
  {
   "cell_type": "code",
   "execution_count": null,
   "metadata": {
    "scrolled": true
   },
   "outputs": [],
   "source": []
  },
  {
   "cell_type": "code",
   "execution_count": 11,
   "metadata": {},
   "outputs": [
    {
     "name": "stdout",
     "output_type": "stream",
     "text": [
      "Single\n",
      "Labels:  {0: 3, 1: 104, 2: 46, 3: 3, 4: 1301, 5: 2}\n",
      "Silhouette:  0.5748113675336735\n"
     ]
    }
   ],
   "source": [
    "print('Single')\n",
    "ward = AgglomerativeClustering(n_clusters=6, linkage='single', affinity='euclidean',\n",
    "                                   connectivity=connectivity)\n",
    "ward.fit(clustering)\n",
    "\n",
    "hist, bins = np.histogram(ward.labels_, bins=range(0, len(set(ward.labels_)) + 1))\n",
    "print('Labels: ', dict(zip(bins, hist)))\n",
    "print('Silhouette: ', silhouette_score(clustering, ward.labels_))"
   ]
  },
  {
   "cell_type": "code",
   "execution_count": 12,
   "metadata": {
    "scrolled": false
   },
   "outputs": [
    {
     "data": {
      "image/png": "[encoded data removed]",
      "text/plain": [
       "<Figure size 432x288 with 1 Axes>"
      ]
     },
     "metadata": {
      "needs_background": "light"
     },
     "output_type": "display_data"
    }
   ],
   "source": [
    "data_dist = pdist(X, metric='euclidean')\n",
    "data_link = linkage(data_dist, method='single', metric='euclidean')\n",
    "res = dendrogram(data_link, truncate_mode=\"lastp\")"
   ]
  },
  {
   "cell_type": "code",
   "execution_count": null,
   "metadata": {},
   "outputs": [],
   "source": []
  },
  {
   "cell_type": "code",
   "execution_count": null,
   "metadata": {},
   "outputs": [],
   "source": []
  }
 ],
 "metadata": {
  "kernelspec": {
   "display_name": "Python 3",
   "language": "python",
   "name": "python3"
  },
  "language_info": {
   "codemirror_mode": {
    "name": "ipython",
    "version": 3
   },
   "file_extension": ".py",
   "mimetype": "text/x-python",
   "name": "python",
   "nbconvert_exporter": "python",
   "pygments_lexer": "ipython3",
   "version": "3.8.5"
  }
 },
 "nbformat": 4,
 "nbformat_minor": 4
}
