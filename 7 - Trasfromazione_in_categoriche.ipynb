{
 "cells": [
  {
   "cell_type": "code",
   "execution_count": 203,
   "metadata": {},
   "outputs": [
    {
     "data": {
      "text/html": [
       "<div>\n",
       "<style scoped>\n",
       "    .dataframe tbody tr th:only-of-type {\n",
       "        vertical-align: middle;\n",
       "    }\n",
       "\n",
       "    .dataframe tbody tr th {\n",
       "        vertical-align: top;\n",
       "    }\n",
       "\n",
       "    .dataframe thead th {\n",
       "        text-align: right;\n",
       "    }\n",
       "</style>\n",
       "<table border=\"1\" class=\"dataframe\">\n",
       "  <thead>\n",
       "    <tr style=\"text-align: right;\">\n",
       "      <th></th>\n",
       "      <th>Age</th>\n",
       "      <th>Attrition</th>\n",
       "      <th>BusinessTravel</th>\n",
       "      <th>Department</th>\n",
       "      <th>DistanceFromHome</th>\n",
       "      <th>Education</th>\n",
       "      <th>EducationField</th>\n",
       "      <th>HourlyRate</th>\n",
       "      <th>EnvironmentSatisfaction</th>\n",
       "      <th>Gender</th>\n",
       "      <th>...</th>\n",
       "      <th>PercentSalaryHike</th>\n",
       "      <th>WorkLifeBalance</th>\n",
       "      <th>MonthlyIncome</th>\n",
       "      <th>TrainingTimesLastYear</th>\n",
       "      <th>NumCompaniesWorked</th>\n",
       "      <th>MaritalStatus</th>\n",
       "      <th>PerformanceRating</th>\n",
       "      <th>TotalWorkingYears</th>\n",
       "      <th>YearsAtCompany</th>\n",
       "      <th>YearsInCurrentRole</th>\n",
       "    </tr>\n",
       "  </thead>\n",
       "  <tbody>\n",
       "    <tr>\n",
       "      <th>0</th>\n",
       "      <td>27.0</td>\n",
       "      <td>Yes</td>\n",
       "      <td>1</td>\n",
       "      <td>Sales</td>\n",
       "      <td>15</td>\n",
       "      <td>2</td>\n",
       "      <td>Medical</td>\n",
       "      <td>59</td>\n",
       "      <td>1</td>\n",
       "      <td>1</td>\n",
       "      <td>...</td>\n",
       "      <td>14</td>\n",
       "      <td>2</td>\n",
       "      <td>4298.0</td>\n",
       "      <td>1.0</td>\n",
       "      <td>6</td>\n",
       "      <td>0</td>\n",
       "      <td>3.0</td>\n",
       "      <td>7</td>\n",
       "      <td>2.0</td>\n",
       "      <td>2</td>\n",
       "    </tr>\n",
       "    <tr>\n",
       "      <th>1</th>\n",
       "      <td>30.0</td>\n",
       "      <td>Yes</td>\n",
       "      <td>2</td>\n",
       "      <td>Sales</td>\n",
       "      <td>16</td>\n",
       "      <td>4</td>\n",
       "      <td>Marketing</td>\n",
       "      <td>70</td>\n",
       "      <td>1</td>\n",
       "      <td>1</td>\n",
       "      <td>...</td>\n",
       "      <td>13</td>\n",
       "      <td>3</td>\n",
       "      <td>5304.0</td>\n",
       "      <td>2.0</td>\n",
       "      <td>2</td>\n",
       "      <td>1</td>\n",
       "      <td>4.0</td>\n",
       "      <td>10</td>\n",
       "      <td>8.0</td>\n",
       "      <td>0</td>\n",
       "    </tr>\n",
       "    <tr>\n",
       "      <th>2</th>\n",
       "      <td>56.0</td>\n",
       "      <td>No</td>\n",
       "      <td>0</td>\n",
       "      <td>Research &amp; Development</td>\n",
       "      <td>2</td>\n",
       "      <td>4</td>\n",
       "      <td>Technical Degree</td>\n",
       "      <td>60</td>\n",
       "      <td>4</td>\n",
       "      <td>1</td>\n",
       "      <td>...</td>\n",
       "      <td>11</td>\n",
       "      <td>2</td>\n",
       "      <td>6306.0</td>\n",
       "      <td>2.0</td>\n",
       "      <td>2</td>\n",
       "      <td>0</td>\n",
       "      <td>4.0</td>\n",
       "      <td>12</td>\n",
       "      <td>12.0</td>\n",
       "      <td>3</td>\n",
       "    </tr>\n",
       "    <tr>\n",
       "      <th>3</th>\n",
       "      <td>41.0</td>\n",
       "      <td>Yes</td>\n",
       "      <td>2</td>\n",
       "      <td>Human Resources</td>\n",
       "      <td>18</td>\n",
       "      <td>5</td>\n",
       "      <td>Human Resources</td>\n",
       "      <td>89</td>\n",
       "      <td>4</td>\n",
       "      <td>1</td>\n",
       "      <td>...</td>\n",
       "      <td>17</td>\n",
       "      <td>3</td>\n",
       "      <td>6430.0</td>\n",
       "      <td>4.0</td>\n",
       "      <td>0</td>\n",
       "      <td>1</td>\n",
       "      <td>3.0</td>\n",
       "      <td>2</td>\n",
       "      <td>2.0</td>\n",
       "      <td>0</td>\n",
       "    </tr>\n",
       "    <tr>\n",
       "      <th>4</th>\n",
       "      <td>42.0</td>\n",
       "      <td>No</td>\n",
       "      <td>2</td>\n",
       "      <td>Research &amp; Development</td>\n",
       "      <td>1</td>\n",
       "      <td>3</td>\n",
       "      <td>Life Sciences</td>\n",
       "      <td>76</td>\n",
       "      <td>4</td>\n",
       "      <td>1</td>\n",
       "      <td>...</td>\n",
       "      <td>22</td>\n",
       "      <td>3</td>\n",
       "      <td>2766.0</td>\n",
       "      <td>6.0</td>\n",
       "      <td>3</td>\n",
       "      <td>1</td>\n",
       "      <td>4.0</td>\n",
       "      <td>12</td>\n",
       "      <td>5.0</td>\n",
       "      <td>3</td>\n",
       "    </tr>\n",
       "  </tbody>\n",
       "</table>\n",
       "<p>5 rows × 22 columns</p>\n",
       "</div>"
      ],
      "text/plain": [
       "    Age Attrition  BusinessTravel              Department  DistanceFromHome  \\\n",
       "0  27.0       Yes               1                   Sales                15   \n",
       "1  30.0       Yes               2                   Sales                16   \n",
       "2  56.0        No               0  Research & Development                 2   \n",
       "3  41.0       Yes               2         Human Resources                18   \n",
       "4  42.0        No               2  Research & Development                 1   \n",
       "\n",
       "   Education    EducationField  HourlyRate  EnvironmentSatisfaction  Gender  \\\n",
       "0          2           Medical          59                        1       1   \n",
       "1          4         Marketing          70                        1       1   \n",
       "2          4  Technical Degree          60                        4       1   \n",
       "3          5   Human Resources          89                        4       1   \n",
       "4          3     Life Sciences          76                        4       1   \n",
       "\n",
       "   ...  PercentSalaryHike WorkLifeBalance  MonthlyIncome  \\\n",
       "0  ...                 14               2         4298.0   \n",
       "1  ...                 13               3         5304.0   \n",
       "2  ...                 11               2         6306.0   \n",
       "3  ...                 17               3         6430.0   \n",
       "4  ...                 22               3         2766.0   \n",
       "\n",
       "   TrainingTimesLastYear  NumCompaniesWorked  MaritalStatus  \\\n",
       "0                    1.0                   6              0   \n",
       "1                    2.0                   2              1   \n",
       "2                    2.0                   2              0   \n",
       "3                    4.0                   0              1   \n",
       "4                    6.0                   3              1   \n",
       "\n",
       "   PerformanceRating  TotalWorkingYears  YearsAtCompany  YearsInCurrentRole  \n",
       "0                3.0                  7             2.0                   2  \n",
       "1                4.0                 10             8.0                   0  \n",
       "2                4.0                 12            12.0                   3  \n",
       "3                3.0                  2             2.0                   0  \n",
       "4                4.0                 12             5.0                   3  \n",
       "\n",
       "[5 rows x 22 columns]"
      ]
     },
     "execution_count": 203,
     "metadata": {},
     "output_type": "execute_result"
    }
   ],
   "source": [
    "import math\n",
    "import pandas as pd\n",
    "from pandas.plotting import scatter_matrix\n",
    "import numpy as np\n",
    "from numpy import asarray\n",
    "import matplotlib.pyplot as plt\n",
    "from matplotlib import figure\n",
    "import seaborn as sn\n",
    "\n",
    "import os\n",
    "os.environ['PATH'] = os.environ['PATH']+';'+os.environ['CONDA_PREFIX']+r\"\\Library\\bin\\graphviz\"\n",
    "import pydotplus\n",
    "from sklearn import tree\n",
    "from IPython.display import Image\n",
    "\n",
    "from sklearn.metrics import confusion_matrix\n",
    "from sklearn.metrics import accuracy_score, f1_score, classification_report\n",
    "from sklearn.metrics import roc_curve, auc, roc_auc_score\n",
    "from sklearn.preprocessing import LabelEncoder, LabelBinarizer\n",
    "from sklearn.tree import DecisionTreeClassifier\n",
    "from sklearn.model_selection import train_test_split\n",
    "from sklearn.model_selection import cross_val_score\n",
    "from sklearn.model_selection import GridSearchCV\n",
    "from sklearn.model_selection import RandomizedSearchCV\n",
    "from sklearn.ensemble import RandomForestClassifier\n",
    "from sklearn.neighbors import KNeighborsClassifier\n",
    "\n",
    "from scipy.stats import mode\n",
    "from collections import Counter\n",
    "from scipy import stats\n",
    "%matplotlib inline\n",
    "\n",
    "df = pd.read_csv(r'C:\\Users\\Mario\\Desktop\\UniPi\\1° semestre\\Data Mining 1\\Datasets\\DatasetProject1\\df_originale.csv')\n",
    "\n",
    "df.head()\n"
   ]
  },
  {
   "cell_type": "code",
   "execution_count": 204,
   "metadata": {},
   "outputs": [
    {
     "data": {
      "text/plain": [
       "(1459, 22)"
      ]
     },
     "execution_count": 204,
     "metadata": {},
     "output_type": "execute_result"
    }
   ],
   "source": [
    "df.shape"
   ]
  },
  {
   "cell_type": "markdown",
   "metadata": {},
   "source": [
    "### TRASFORMAZIONE DA VARIABILI NUMERICHE A CATEGORICHE"
   ]
  },
  {
   "cell_type": "code",
   "execution_count": 205,
   "metadata": {},
   "outputs": [],
   "source": [
    "distance_bins=[-1, 4, 10, 30]\n",
    "distance = [\"0-4 miles\", \"4-10 miles\", \"10-30 miles\"]\n",
    "df[\"DistanceFromHome\"] = pd.cut(df[\"DistanceFromHome\"], distance_bins, labels=distance)\n",
    "\n",
    "age_bins=[17, 32, 39, 60]\n",
    "age = [\"Age:18-32\", \"Age:32-39\", \"Age:39-60\"]\n",
    "df[\"Age\"] = pd.cut(df[\"Age\"], age_bins, labels=age)\n",
    "\n",
    "hourly_bins=[29, 44, 58, 72, 86, 100]\n",
    "hourly = [\"Hourly:30-44\", \"Hourly:44-58\", \"Hourly:58-72\", \"Hourly:72-86\", \"Hourly:86-100\"]\n",
    "df[\"HourlyRate\"] = pd.cut(df[\"HourlyRate\"], hourly_bins, labels=hourly)\n",
    "\n",
    "percent_bins=[10, 18, 25]\n",
    "percent = [\"Hike:11-18(%)\", \"Hike:18-25(%)\"]\n",
    "df[\"PercentSalaryHike\"] = pd.cut(df[\"PercentSalaryHike\"], percent_bins, labels=percent)\n",
    "\n",
    "training_bins=[-1, 2, 4, 6]\n",
    "training = [\"Training:0-2\", \"Training:2-4\", \"Training:4-6\"]\n",
    "df[\"TrainingTimesLastYear\"] = pd.cut(df[\"TrainingTimesLastYear\"], training_bins, labels=training)\n",
    "\n",
    "companies_bins=[-1, 3, 6, 9]\n",
    "companies = [\"Companies:0-3\", \"Companies:3-6\", \"Companies:6-9\"]\n",
    "df[\"NumCompaniesWorked\"] = pd.cut(df[\"NumCompaniesWorked\"], companies_bins, labels=companies)\n",
    "\n",
    "total_bins=[0, 5, 15, 40]\n",
    "total = [\"TotWork:1-5\", \"TotWork:5-15\", \"TotWork:15-40\"]\n",
    "df[\"TotalWorkingYears\"] = pd.cut(df[\"TotalWorkingYears\"], total_bins, labels=total)\n",
    "\n",
    "atcompany_bins=[-1, 2, 6, 29]\n",
    "atcompany = [\"AtCompany:0-2\", \"AtCompany:2-6\", \"AtCompany:6-29\"]\n",
    "df[\"YearsAtCompany\"] = pd.cut(df[\"YearsAtCompany\"], atcompany_bins, labels=atcompany)\n",
    "\n",
    "current_bins=[-1, 6, 12, 18]\n",
    "current = [\"CurrRole:0-6\", \"CurrRole:6-12\", \"CurrRole:12-18\"]\n",
    "df[\"YearsInCurrentRole\"] = pd.cut(df[\"YearsInCurrentRole\"], current_bins, labels=current)\n",
    "\n",
    "monthly_bins=[1000, 3000, 5000, 8000, 20000]\n",
    "monthly = [\"Monthly:1000-3000\", \"Monthly:3000-5000\", \"Monthly:5000-8000\", \"Monthly:8000-20000\"]\n",
    "df[\"MonthlyIncome\"] = pd.cut(df[\"MonthlyIncome\"], monthly_bins, labels=monthly)"
   ]
  },
  {
   "cell_type": "code",
   "execution_count": 206,
   "metadata": {},
   "outputs": [
    {
     "name": "stderr",
     "output_type": "stream",
     "text": [
      "C:\\Users\\Mario\\Anaconda3\\lib\\site-packages\\pandas\\core\\indexing.py:670: SettingWithCopyWarning: \n",
      "A value is trying to be set on a copy of a slice from a DataFrame\n",
      "\n",
      "See the caveats in the documentation: https://pandas.pydata.org/pandas-docs/stable/user_guide/indexing.html#returning-a-view-versus-a-copy\n",
      "  iloc._setitem_with_indexer(indexer, value)\n"
     ]
    },
    {
     "data": {
      "text/html": [
       "<div>\n",
       "<style scoped>\n",
       "    .dataframe tbody tr th:only-of-type {\n",
       "        vertical-align: middle;\n",
       "    }\n",
       "\n",
       "    .dataframe tbody tr th {\n",
       "        vertical-align: top;\n",
       "    }\n",
       "\n",
       "    .dataframe thead th {\n",
       "        text-align: right;\n",
       "    }\n",
       "</style>\n",
       "<table border=\"1\" class=\"dataframe\">\n",
       "  <thead>\n",
       "    <tr style=\"text-align: right;\">\n",
       "      <th></th>\n",
       "      <th>Age</th>\n",
       "      <th>Attrition</th>\n",
       "      <th>BusinessTravel</th>\n",
       "      <th>Department</th>\n",
       "      <th>DistanceFromHome</th>\n",
       "      <th>Education</th>\n",
       "      <th>EducationField</th>\n",
       "      <th>HourlyRate</th>\n",
       "      <th>EnvironmentSatisfaction</th>\n",
       "      <th>Gender</th>\n",
       "      <th>...</th>\n",
       "      <th>PercentSalaryHike</th>\n",
       "      <th>WorkLifeBalance</th>\n",
       "      <th>MonthlyIncome</th>\n",
       "      <th>TrainingTimesLastYear</th>\n",
       "      <th>NumCompaniesWorked</th>\n",
       "      <th>MaritalStatus</th>\n",
       "      <th>PerformanceRating</th>\n",
       "      <th>TotalWorkingYears</th>\n",
       "      <th>YearsAtCompany</th>\n",
       "      <th>YearsInCurrentRole</th>\n",
       "    </tr>\n",
       "  </thead>\n",
       "  <tbody>\n",
       "    <tr>\n",
       "      <th>0</th>\n",
       "      <td>Age:18-32</td>\n",
       "      <td>Attr:Yes</td>\n",
       "      <td>Travel_frequently</td>\n",
       "      <td>Sales</td>\n",
       "      <td>10-30 miles</td>\n",
       "      <td>College</td>\n",
       "      <td>Medical</td>\n",
       "      <td>Hourly:58-72</td>\n",
       "      <td>EnvSatisf:Low</td>\n",
       "      <td>Male</td>\n",
       "      <td>...</td>\n",
       "      <td>Hike:11-18(%)</td>\n",
       "      <td>WLBalance:Good</td>\n",
       "      <td>Monthly:3000-5000</td>\n",
       "      <td>Training:0-2</td>\n",
       "      <td>Companies:3-6</td>\n",
       "      <td>Divorced</td>\n",
       "      <td>Performance:Excellent</td>\n",
       "      <td>TotWork:5-15</td>\n",
       "      <td>AtCompany:0-2</td>\n",
       "      <td>CurrRole:0-6</td>\n",
       "    </tr>\n",
       "    <tr>\n",
       "      <th>1</th>\n",
       "      <td>Age:18-32</td>\n",
       "      <td>Attr:Yes</td>\n",
       "      <td>Travel_rarely</td>\n",
       "      <td>Sales</td>\n",
       "      <td>10-30 miles</td>\n",
       "      <td>Master</td>\n",
       "      <td>Marketing</td>\n",
       "      <td>Hourly:58-72</td>\n",
       "      <td>EnvSatisf:Low</td>\n",
       "      <td>Male</td>\n",
       "      <td>...</td>\n",
       "      <td>Hike:11-18(%)</td>\n",
       "      <td>WLBalance:Better</td>\n",
       "      <td>Monthly:5000-8000</td>\n",
       "      <td>Training:0-2</td>\n",
       "      <td>Companies:0-3</td>\n",
       "      <td>Married</td>\n",
       "      <td>Performance:Outstanding</td>\n",
       "      <td>TotWork:5-15</td>\n",
       "      <td>AtCompany:6-29</td>\n",
       "      <td>CurrRole:0-6</td>\n",
       "    </tr>\n",
       "    <tr>\n",
       "      <th>2</th>\n",
       "      <td>Age:39-60</td>\n",
       "      <td>Attr:No</td>\n",
       "      <td>Non_travel</td>\n",
       "      <td>Research &amp; Development</td>\n",
       "      <td>0-4 miles</td>\n",
       "      <td>Master</td>\n",
       "      <td>Technical Degree</td>\n",
       "      <td>Hourly:58-72</td>\n",
       "      <td>EnvSatisf:Very High</td>\n",
       "      <td>Male</td>\n",
       "      <td>...</td>\n",
       "      <td>Hike:11-18(%)</td>\n",
       "      <td>WLBalance:Good</td>\n",
       "      <td>Monthly:5000-8000</td>\n",
       "      <td>Training:0-2</td>\n",
       "      <td>Companies:0-3</td>\n",
       "      <td>Divorced</td>\n",
       "      <td>Performance:Outstanding</td>\n",
       "      <td>TotWork:5-15</td>\n",
       "      <td>AtCompany:6-29</td>\n",
       "      <td>CurrRole:0-6</td>\n",
       "    </tr>\n",
       "    <tr>\n",
       "      <th>3</th>\n",
       "      <td>Age:39-60</td>\n",
       "      <td>Attr:Yes</td>\n",
       "      <td>Travel_rarely</td>\n",
       "      <td>Human Resources</td>\n",
       "      <td>10-30 miles</td>\n",
       "      <td>Doctor</td>\n",
       "      <td>Human Resources</td>\n",
       "      <td>Hourly:86-100</td>\n",
       "      <td>EnvSatisf:Very High</td>\n",
       "      <td>Male</td>\n",
       "      <td>...</td>\n",
       "      <td>Hike:11-18(%)</td>\n",
       "      <td>WLBalance:Better</td>\n",
       "      <td>Monthly:5000-8000</td>\n",
       "      <td>Training:2-4</td>\n",
       "      <td>Companies:0-3</td>\n",
       "      <td>Married</td>\n",
       "      <td>Performance:Excellent</td>\n",
       "      <td>TotWork:1-5</td>\n",
       "      <td>AtCompany:0-2</td>\n",
       "      <td>CurrRole:0-6</td>\n",
       "    </tr>\n",
       "    <tr>\n",
       "      <th>4</th>\n",
       "      <td>Age:39-60</td>\n",
       "      <td>Attr:No</td>\n",
       "      <td>Travel_rarely</td>\n",
       "      <td>Research &amp; Development</td>\n",
       "      <td>0-4 miles</td>\n",
       "      <td>Bachelor</td>\n",
       "      <td>Life Sciences</td>\n",
       "      <td>Hourly:72-86</td>\n",
       "      <td>EnvSatisf:Very High</td>\n",
       "      <td>Male</td>\n",
       "      <td>...</td>\n",
       "      <td>Hike:18-25(%)</td>\n",
       "      <td>WLBalance:Better</td>\n",
       "      <td>Monthly:1000-3000</td>\n",
       "      <td>Training:4-6</td>\n",
       "      <td>Companies:0-3</td>\n",
       "      <td>Married</td>\n",
       "      <td>Performance:Outstanding</td>\n",
       "      <td>TotWork:5-15</td>\n",
       "      <td>AtCompany:2-6</td>\n",
       "      <td>CurrRole:0-6</td>\n",
       "    </tr>\n",
       "  </tbody>\n",
       "</table>\n",
       "<p>5 rows × 22 columns</p>\n",
       "</div>"
      ],
      "text/plain": [
       "         Age Attrition     BusinessTravel              Department  \\\n",
       "0  Age:18-32  Attr:Yes  Travel_frequently                   Sales   \n",
       "1  Age:18-32  Attr:Yes      Travel_rarely                   Sales   \n",
       "2  Age:39-60   Attr:No         Non_travel  Research & Development   \n",
       "3  Age:39-60  Attr:Yes      Travel_rarely         Human Resources   \n",
       "4  Age:39-60   Attr:No      Travel_rarely  Research & Development   \n",
       "\n",
       "  DistanceFromHome Education    EducationField     HourlyRate  \\\n",
       "0      10-30 miles   College           Medical   Hourly:58-72   \n",
       "1      10-30 miles    Master         Marketing   Hourly:58-72   \n",
       "2        0-4 miles    Master  Technical Degree   Hourly:58-72   \n",
       "3      10-30 miles    Doctor   Human Resources  Hourly:86-100   \n",
       "4        0-4 miles  Bachelor     Life Sciences   Hourly:72-86   \n",
       "\n",
       "  EnvironmentSatisfaction Gender  ... PercentSalaryHike   WorkLifeBalance  \\\n",
       "0           EnvSatisf:Low   Male  ...     Hike:11-18(%)    WLBalance:Good   \n",
       "1           EnvSatisf:Low   Male  ...     Hike:11-18(%)  WLBalance:Better   \n",
       "2     EnvSatisf:Very High   Male  ...     Hike:11-18(%)    WLBalance:Good   \n",
       "3     EnvSatisf:Very High   Male  ...     Hike:11-18(%)  WLBalance:Better   \n",
       "4     EnvSatisf:Very High   Male  ...     Hike:18-25(%)  WLBalance:Better   \n",
       "\n",
       "       MonthlyIncome TrainingTimesLastYear NumCompaniesWorked MaritalStatus  \\\n",
       "0  Monthly:3000-5000          Training:0-2      Companies:3-6      Divorced   \n",
       "1  Monthly:5000-8000          Training:0-2      Companies:0-3       Married   \n",
       "2  Monthly:5000-8000          Training:0-2      Companies:0-3      Divorced   \n",
       "3  Monthly:5000-8000          Training:2-4      Companies:0-3       Married   \n",
       "4  Monthly:1000-3000          Training:4-6      Companies:0-3       Married   \n",
       "\n",
       "         PerformanceRating TotalWorkingYears  YearsAtCompany  \\\n",
       "0    Performance:Excellent      TotWork:5-15   AtCompany:0-2   \n",
       "1  Performance:Outstanding      TotWork:5-15  AtCompany:6-29   \n",
       "2  Performance:Outstanding      TotWork:5-15  AtCompany:6-29   \n",
       "3    Performance:Excellent       TotWork:1-5   AtCompany:0-2   \n",
       "4  Performance:Outstanding      TotWork:5-15   AtCompany:2-6   \n",
       "\n",
       "  YearsInCurrentRole  \n",
       "0       CurrRole:0-6  \n",
       "1       CurrRole:0-6  \n",
       "2       CurrRole:0-6  \n",
       "3       CurrRole:0-6  \n",
       "4       CurrRole:0-6  \n",
       "\n",
       "[5 rows x 22 columns]"
      ]
     },
     "execution_count": 206,
     "metadata": {},
     "output_type": "execute_result"
    }
   ],
   "source": [
    "for i in range(0, len(df.Gender)):\n",
    "    if df.Gender.iloc[i] == 1:\n",
    "        df.Gender.iloc[i] = \"Male\"\n",
    "    else:\n",
    "        df.Gender.iloc[i] = \"Female\"\n",
    "        \n",
    "for i in range(0, len(df.BusinessTravel)):\n",
    "    if df.BusinessTravel.iloc[i] == 0:\n",
    "        df.BusinessTravel.iloc[i] = \"Non_travel\"\n",
    "    elif df.BusinessTravel.iloc[i] == 1:\n",
    "        df.BusinessTravel.iloc[i] = \"Travel_frequently\"\n",
    "    elif df.BusinessTravel.iloc[i] == 2:\n",
    "        df.BusinessTravel.iloc[i] = \"Travel_rarely\"\n",
    "        \n",
    "for i in range(0, len(df.JobSatisfaction)):\n",
    "    if df.JobSatisfaction.iloc[i] == 1:\n",
    "        df.JobSatisfaction.iloc[i] = \"JobSatisf:Low\"\n",
    "    elif df.JobSatisfaction.iloc[i] == 2:\n",
    "        df.JobSatisfaction.iloc[i] = \"JobSatisf:Medium\"\n",
    "    elif df.JobSatisfaction.iloc[i] == 3:\n",
    "        df.JobSatisfaction.iloc[i] = \"JobSatisf:High\"\n",
    "    elif df.JobSatisfaction.iloc[i] == 4:\n",
    "        df.JobSatisfaction.iloc[i] = \"JobSatisf:Very High\"\n",
    "        \n",
    "for i in range(0, len(df.EnvironmentSatisfaction)):\n",
    "    if df.EnvironmentSatisfaction.iloc[i] == 1:\n",
    "        df.EnvironmentSatisfaction.iloc[i] = \"EnvSatisf:Low\"\n",
    "    elif df.EnvironmentSatisfaction.iloc[i] == 2:\n",
    "        df.EnvironmentSatisfaction.iloc[i] = \"EnvSatisf:Medium\"\n",
    "    elif df.EnvironmentSatisfaction.iloc[i] == 3:\n",
    "        df.EnvironmentSatisfaction.iloc[i] = \"EnvSatisf:High\"\n",
    "    elif df.EnvironmentSatisfaction.iloc[i] == 4:\n",
    "        df.EnvironmentSatisfaction.iloc[i] = \"EnvSatisf:Very High\"\n",
    "        \n",
    "for i in range(0, len(df.Education)):\n",
    "    if df.Education.iloc[i] == 1:\n",
    "        df.Education.iloc[i] = \"Below College\"\n",
    "    elif df.Education.iloc[i] == 2:\n",
    "        df.Education.iloc[i] = \"College\"\n",
    "    elif df.Education.iloc[i] == 3:\n",
    "        df.Education.iloc[i] = \"Bachelor\"\n",
    "    elif df.Education.iloc[i] == 4:\n",
    "        df.Education.iloc[i] = \"Master\"\n",
    "    elif df.Education.iloc[i] == 5:\n",
    "        df.Education.iloc[i] = \"Doctor\"\n",
    "        \n",
    "for i in range(0, len(df.PerformanceRating)):\n",
    "    if df.PerformanceRating.iloc[i] == 1:\n",
    "        df.PerformanceRating.iloc[i] = \"Performance:Low\"\n",
    "    elif df.PerformanceRating.iloc[i] == 2:\n",
    "        df.PerformanceRating.iloc[i] = \"Performance:Good\"\n",
    "    elif df.PerformanceRating.iloc[i] == 3:\n",
    "        df.PerformanceRating.iloc[i] = \"Performance:Excellent\"\n",
    "    elif df.PerformanceRating.iloc[i] == 4:\n",
    "        df.PerformanceRating.iloc[i] = \"Performance:Outstanding\"\n",
    "        \n",
    "for i in range(0, len(df.WorkLifeBalance)):\n",
    "    if df.WorkLifeBalance.iloc[i] == 1:\n",
    "        df.WorkLifeBalance.iloc[i] = \"WLBalance:Bad\"\n",
    "    elif df.WorkLifeBalance.iloc[i] == 2:\n",
    "        df.WorkLifeBalance.iloc[i] = \"WLBalance:Good\"\n",
    "    elif df.WorkLifeBalance.iloc[i] == 3:\n",
    "        df.WorkLifeBalance.iloc[i] = \"WLBalance:Better\"\n",
    "    elif df.WorkLifeBalance.iloc[i] == 4:\n",
    "        df.WorkLifeBalance.iloc[i] = \"WLBalance:Best\"\n",
    "        \n",
    "for i in range(0, len(df.MaritalStatus)):\n",
    "    if df.MaritalStatus.iloc[i] == 0:\n",
    "        df.MaritalStatus.iloc[i] = \"Divorced\"\n",
    "    elif df.MaritalStatus.iloc[i] == 1:\n",
    "        df.MaritalStatus.iloc[i] = \"Married\"\n",
    "    elif df.MaritalStatus.iloc[i] == 2:\n",
    "        df.MaritalStatus.iloc[i] = \"Single\"\n",
    "\n",
    "for i in range(0, len(df.Attrition)):\n",
    "    if df.Attrition.iloc[i] == \"Yes\":\n",
    "        df.Attrition.iloc[i] = \"Attr:Yes\"\n",
    "    elif df.Attrition.iloc[i] == \"No\":\n",
    "        df.Attrition.iloc[i] = \"Attr:No\"\n",
    "        \n",
    "for i in range(0, len(df.OverTime)):\n",
    "    if df.OverTime.iloc[i] == \"Yes\":\n",
    "        df.OverTime.iloc[i] = \"OverTime:Yes\"\n",
    "    elif df.OverTime.iloc[i] == \"No\":\n",
    "        df.OverTime.iloc[i] = \"OverTime:No\"\n",
    "\n",
    "\n",
    "df.head()"
   ]
  },
  {
   "cell_type": "code",
   "execution_count": 207,
   "metadata": {},
   "outputs": [
    {
     "data": {
      "text/plain": [
       "Male      909\n",
       "Female    550\n",
       "Name: Gender, dtype: int64"
      ]
     },
     "execution_count": 207,
     "metadata": {},
     "output_type": "execute_result"
    }
   ],
   "source": [
    "df.Gender.value_counts()"
   ]
  },
  {
   "cell_type": "code",
   "execution_count": 208,
   "metadata": {},
   "outputs": [
    {
     "data": {
      "text/plain": [
       "OverTime:No     1046\n",
       "OverTime:Yes     413\n",
       "Name: OverTime, dtype: int64"
      ]
     },
     "execution_count": 208,
     "metadata": {},
     "output_type": "execute_result"
    }
   ],
   "source": [
    "df.OverTime.value_counts()"
   ]
  },
  {
   "cell_type": "code",
   "execution_count": 209,
   "metadata": {},
   "outputs": [
    {
     "data": {
      "text/plain": [
       "EnvSatisf:High         450\n",
       "EnvSatisf:Very High    442\n",
       "EnvSatisf:Low          284\n",
       "EnvSatisf:Medium       283\n",
       "Name: EnvironmentSatisfaction, dtype: int64"
      ]
     },
     "execution_count": 209,
     "metadata": {},
     "output_type": "execute_result"
    }
   ],
   "source": [
    "df.EnvironmentSatisfaction.value_counts()"
   ]
  },
  {
   "cell_type": "code",
   "execution_count": 210,
   "metadata": {},
   "outputs": [
    {
     "data": {
      "text/plain": [
       "Bachelor         566\n",
       "Master           398\n",
       "College          279\n",
       "Below College    168\n",
       "Doctor            48\n",
       "Name: Education, dtype: int64"
      ]
     },
     "execution_count": 210,
     "metadata": {},
     "output_type": "execute_result"
    }
   ],
   "source": [
    "df.Education.value_counts()"
   ]
  },
  {
   "cell_type": "code",
   "execution_count": 211,
   "metadata": {},
   "outputs": [
    {
     "data": {
      "text/plain": [
       "Performance:Excellent      1260\n",
       "Performance:Outstanding     199\n",
       "Name: PerformanceRating, dtype: int64"
      ]
     },
     "execution_count": 211,
     "metadata": {},
     "output_type": "execute_result"
    }
   ],
   "source": [
    "df.PerformanceRating.value_counts()"
   ]
  },
  {
   "cell_type": "code",
   "execution_count": 212,
   "metadata": {},
   "outputs": [
    {
     "data": {
      "text/plain": [
       "WLBalance:Better    887\n",
       "WLBalance:Good      342\n",
       "WLBalance:Best      151\n",
       "WLBalance:Bad        79\n",
       "Name: WorkLifeBalance, dtype: int64"
      ]
     },
     "execution_count": 212,
     "metadata": {},
     "output_type": "execute_result"
    }
   ],
   "source": [
    "df.WorkLifeBalance.value_counts()"
   ]
  },
  {
   "cell_type": "code",
   "execution_count": 213,
   "metadata": {},
   "outputs": [
    {
     "data": {
      "text/plain": [
       "Married     672\n",
       "Single      460\n",
       "Divorced    327\n",
       "Name: MaritalStatus, dtype: int64"
      ]
     },
     "execution_count": 213,
     "metadata": {},
     "output_type": "execute_result"
    }
   ],
   "source": [
    "df.MaritalStatus.value_counts()"
   ]
  },
  {
   "cell_type": "code",
   "execution_count": 214,
   "metadata": {},
   "outputs": [
    {
     "data": {
      "text/plain": [
       "Age:32-39    569\n",
       "Age:39-60    458\n",
       "Age:18-32    432\n",
       "Name: Age, dtype: int64"
      ]
     },
     "execution_count": 214,
     "metadata": {},
     "output_type": "execute_result"
    }
   ],
   "source": [
    "df.Age.value_counts()"
   ]
  },
  {
   "cell_type": "code",
   "execution_count": 215,
   "metadata": {},
   "outputs": [
    {
     "data": {
      "text/plain": [
       "Hourly:72-86     308\n",
       "Hourly:86-100    298\n",
       "Hourly:44-58     298\n",
       "Hourly:30-44     281\n",
       "Hourly:58-72     274\n",
       "Name: HourlyRate, dtype: int64"
      ]
     },
     "execution_count": 215,
     "metadata": {},
     "output_type": "execute_result"
    }
   ],
   "source": [
    "df.HourlyRate.value_counts()"
   ]
  },
  {
   "cell_type": "code",
   "execution_count": 216,
   "metadata": {},
   "outputs": [
    {
     "data": {
      "text/plain": [
       "Hike:11-18(%)    1158\n",
       "Hike:18-25(%)     301\n",
       "Name: PercentSalaryHike, dtype: int64"
      ]
     },
     "execution_count": 216,
     "metadata": {},
     "output_type": "execute_result"
    }
   ],
   "source": [
    "df.PercentSalaryHike.value_counts()"
   ]
  },
  {
   "cell_type": "code",
   "execution_count": 217,
   "metadata": {},
   "outputs": [
    {
     "data": {
      "text/plain": [
       "Training:2-4    774\n",
       "Training:0-2    531\n",
       "Training:4-6    154\n",
       "Name: TrainingTimesLastYear, dtype: int64"
      ]
     },
     "execution_count": 217,
     "metadata": {},
     "output_type": "execute_result"
    }
   ],
   "source": [
    "df.TrainingTimesLastYear.value_counts()"
   ]
  },
  {
   "cell_type": "code",
   "execution_count": 218,
   "metadata": {},
   "outputs": [
    {
     "data": {
      "text/plain": [
       "Companies:0-3    1012\n",
       "Companies:3-6     272\n",
       "Companies:6-9     175\n",
       "Name: NumCompaniesWorked, dtype: int64"
      ]
     },
     "execution_count": 218,
     "metadata": {},
     "output_type": "execute_result"
    }
   ],
   "source": [
    "df.NumCompaniesWorked.value_counts()"
   ]
  },
  {
   "cell_type": "code",
   "execution_count": 219,
   "metadata": {},
   "outputs": [
    {
     "data": {
      "text/plain": [
       "TotWork:5-15     798\n",
       "TotWork:15-40    356\n",
       "TotWork:1-5      305\n",
       "Name: TotalWorkingYears, dtype: int64"
      ]
     },
     "execution_count": 219,
     "metadata": {},
     "output_type": "execute_result"
    }
   ],
   "source": [
    "df.TotalWorkingYears.value_counts()"
   ]
  },
  {
   "cell_type": "code",
   "execution_count": 220,
   "metadata": {},
   "outputs": [
    {
     "data": {
      "text/plain": [
       "AtCompany:2-6     641\n",
       "AtCompany:0-2     412\n",
       "AtCompany:6-29    406\n",
       "Name: YearsAtCompany, dtype: int64"
      ]
     },
     "execution_count": 220,
     "metadata": {},
     "output_type": "execute_result"
    }
   ],
   "source": [
    "df.YearsAtCompany.value_counts()"
   ]
  },
  {
   "cell_type": "code",
   "execution_count": 221,
   "metadata": {},
   "outputs": [
    {
     "data": {
      "text/plain": [
       "CurrRole:0-6      974\n",
       "CurrRole:6-12     439\n",
       "CurrRole:12-18     46\n",
       "Name: YearsInCurrentRole, dtype: int64"
      ]
     },
     "execution_count": 221,
     "metadata": {},
     "output_type": "execute_result"
    }
   ],
   "source": [
    "df.YearsInCurrentRole.value_counts()"
   ]
  },
  {
   "cell_type": "code",
   "execution_count": 222,
   "metadata": {
    "scrolled": true
   },
   "outputs": [
    {
     "data": {
      "text/plain": [
       "Monthly:3000-5000     471\n",
       "Monthly:5000-8000     375\n",
       "Monthly:8000-20000    309\n",
       "Monthly:1000-3000     304\n",
       "Name: MonthlyIncome, dtype: int64"
      ]
     },
     "execution_count": 222,
     "metadata": {},
     "output_type": "execute_result"
    }
   ],
   "source": [
    "df.MonthlyIncome.value_counts()"
   ]
  },
  {
   "cell_type": "code",
   "execution_count": 223,
   "metadata": {},
   "outputs": [
    {
     "data": {
      "text/plain": [
       "0-4 miles      563\n",
       "4-10 miles     455\n",
       "10-30 miles    441\n",
       "Name: DistanceFromHome, dtype: int64"
      ]
     },
     "execution_count": 223,
     "metadata": {},
     "output_type": "execute_result"
    }
   ],
   "source": [
    "df.DistanceFromHome.value_counts()"
   ]
  },
  {
   "cell_type": "code",
   "execution_count": 224,
   "metadata": {},
   "outputs": [],
   "source": [
    "df.to_csv(r'C:\\Users\\Mario\\Desktop\\UniPi\\1° semestre\\Data Mining 1\\Datasets\\DatasetProject1\\dfpattern.csv', index = False)"
   ]
  }
 ],
 "metadata": {
  "kernelspec": {
   "display_name": "Python 3",
   "language": "python",
   "name": "python3"
  },
  "language_info": {
   "codemirror_mode": {
    "name": "ipython",
    "version": 3
   },
   "file_extension": ".py",
   "mimetype": "text/x-python",
   "name": "python",
   "nbconvert_exporter": "python",
   "pygments_lexer": "ipython3",
   "version": "3.8.5"
  }
 },
 "nbformat": 4,
 "nbformat_minor": 4
}
