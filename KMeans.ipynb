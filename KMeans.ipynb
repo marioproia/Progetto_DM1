{
 "cells": [
  {
   "cell_type": "code",
   "execution_count": 1,
   "metadata": {},
   "outputs": [
    {
     "data": {
      "text/html": [
       "<div>\n",
       "<style scoped>\n",
       "    .dataframe tbody tr th:only-of-type {\n",
       "        vertical-align: middle;\n",
       "    }\n",
       "\n",
       "    .dataframe tbody tr th {\n",
       "        vertical-align: top;\n",
       "    }\n",
       "\n",
       "    .dataframe thead th {\n",
       "        text-align: right;\n",
       "    }\n",
       "</style>\n",
       "<table border=\"1\" class=\"dataframe\">\n",
       "  <thead>\n",
       "    <tr style=\"text-align: right;\">\n",
       "      <th></th>\n",
       "      <th>Age</th>\n",
       "      <th>Attrition</th>\n",
       "      <th>BusinessTravel</th>\n",
       "      <th>DailyRate</th>\n",
       "      <th>Department</th>\n",
       "      <th>DistanceFromHome</th>\n",
       "      <th>Education</th>\n",
       "      <th>EducationField</th>\n",
       "      <th>EnvironmentSatisfaction</th>\n",
       "      <th>Gender</th>\n",
       "      <th>...</th>\n",
       "      <th>RelationshipSatisfaction</th>\n",
       "      <th>StandardHours</th>\n",
       "      <th>StockOptionLevel</th>\n",
       "      <th>TotalWorkingYears</th>\n",
       "      <th>TrainingTimesLastYear</th>\n",
       "      <th>WorkLifeBalance</th>\n",
       "      <th>YearsAtCompany</th>\n",
       "      <th>YearsInCurrentRole</th>\n",
       "      <th>YearsSinceLastPromotion</th>\n",
       "      <th>YearsWithCurrManager</th>\n",
       "    </tr>\n",
       "  </thead>\n",
       "  <tbody>\n",
       "    <tr>\n",
       "      <th>0</th>\n",
       "      <td>27.0</td>\n",
       "      <td>Yes</td>\n",
       "      <td>Travel_Frequently</td>\n",
       "      <td>763</td>\n",
       "      <td>Sales</td>\n",
       "      <td>15</td>\n",
       "      <td>2</td>\n",
       "      <td>Medical</td>\n",
       "      <td>1</td>\n",
       "      <td>Male</td>\n",
       "      <td>...</td>\n",
       "      <td>4</td>\n",
       "      <td>80.0</td>\n",
       "      <td>2</td>\n",
       "      <td>7</td>\n",
       "      <td>1.0</td>\n",
       "      <td>2</td>\n",
       "      <td>2.0</td>\n",
       "      <td>2</td>\n",
       "      <td>2</td>\n",
       "      <td>2</td>\n",
       "    </tr>\n",
       "    <tr>\n",
       "      <th>1</th>\n",
       "      <td>30.0</td>\n",
       "      <td>Yes</td>\n",
       "      <td>Travel_Rarely</td>\n",
       "      <td>1079</td>\n",
       "      <td>Sales</td>\n",
       "      <td>16</td>\n",
       "      <td>4</td>\n",
       "      <td>Marketing</td>\n",
       "      <td>1</td>\n",
       "      <td>Male</td>\n",
       "      <td>...</td>\n",
       "      <td>1</td>\n",
       "      <td>NaN</td>\n",
       "      <td>3</td>\n",
       "      <td>10</td>\n",
       "      <td>2.0</td>\n",
       "      <td>3</td>\n",
       "      <td>8.0</td>\n",
       "      <td>0</td>\n",
       "      <td>0</td>\n",
       "      <td>0</td>\n",
       "    </tr>\n",
       "    <tr>\n",
       "      <th>2</th>\n",
       "      <td>56.0</td>\n",
       "      <td>No</td>\n",
       "      <td>Non-Travel</td>\n",
       "      <td>150</td>\n",
       "      <td>Research &amp; Development</td>\n",
       "      <td>2</td>\n",
       "      <td>4</td>\n",
       "      <td>Technical Degree</td>\n",
       "      <td>4</td>\n",
       "      <td>Male</td>\n",
       "      <td>...</td>\n",
       "      <td>3</td>\n",
       "      <td>80.0</td>\n",
       "      <td>1</td>\n",
       "      <td>12</td>\n",
       "      <td>2.0</td>\n",
       "      <td>2</td>\n",
       "      <td>13.0</td>\n",
       "      <td>3</td>\n",
       "      <td>1</td>\n",
       "      <td>4</td>\n",
       "    </tr>\n",
       "    <tr>\n",
       "      <th>3</th>\n",
       "      <td>41.0</td>\n",
       "      <td>Yes</td>\n",
       "      <td>NaN</td>\n",
       "      <td>359</td>\n",
       "      <td>Human Resources</td>\n",
       "      <td>18</td>\n",
       "      <td>5</td>\n",
       "      <td>Human Resources</td>\n",
       "      <td>4</td>\n",
       "      <td>Male</td>\n",
       "      <td>...</td>\n",
       "      <td>3</td>\n",
       "      <td>80.0</td>\n",
       "      <td>0</td>\n",
       "      <td>2</td>\n",
       "      <td>4.0</td>\n",
       "      <td>3</td>\n",
       "      <td>3.0</td>\n",
       "      <td>0</td>\n",
       "      <td>0</td>\n",
       "      <td>0</td>\n",
       "    </tr>\n",
       "    <tr>\n",
       "      <th>4</th>\n",
       "      <td>42.0</td>\n",
       "      <td>No</td>\n",
       "      <td>NaN</td>\n",
       "      <td>642</td>\n",
       "      <td>Research &amp; Development</td>\n",
       "      <td>1</td>\n",
       "      <td>3</td>\n",
       "      <td>Life Sciences</td>\n",
       "      <td>4</td>\n",
       "      <td>Male</td>\n",
       "      <td>...</td>\n",
       "      <td>1</td>\n",
       "      <td>NaN</td>\n",
       "      <td>1</td>\n",
       "      <td>12</td>\n",
       "      <td>6.0</td>\n",
       "      <td>3</td>\n",
       "      <td>5.0</td>\n",
       "      <td>3</td>\n",
       "      <td>1</td>\n",
       "      <td>0</td>\n",
       "    </tr>\n",
       "  </tbody>\n",
       "</table>\n",
       "<p>5 rows × 33 columns</p>\n",
       "</div>"
      ],
      "text/plain": [
       "    Age Attrition     BusinessTravel  DailyRate              Department  \\\n",
       "0  27.0       Yes  Travel_Frequently        763                   Sales   \n",
       "1  30.0       Yes      Travel_Rarely       1079                   Sales   \n",
       "2  56.0        No         Non-Travel        150  Research & Development   \n",
       "3  41.0       Yes                NaN        359         Human Resources   \n",
       "4  42.0        No                NaN        642  Research & Development   \n",
       "\n",
       "   DistanceFromHome  Education    EducationField  EnvironmentSatisfaction  \\\n",
       "0                15          2           Medical                        1   \n",
       "1                16          4         Marketing                        1   \n",
       "2                 2          4  Technical Degree                        4   \n",
       "3                18          5   Human Resources                        4   \n",
       "4                 1          3     Life Sciences                        4   \n",
       "\n",
       "  Gender  ...  RelationshipSatisfaction  StandardHours  StockOptionLevel  \\\n",
       "0   Male  ...                         4           80.0                 2   \n",
       "1   Male  ...                         1            NaN                 3   \n",
       "2   Male  ...                         3           80.0                 1   \n",
       "3   Male  ...                         3           80.0                 0   \n",
       "4   Male  ...                         1            NaN                 1   \n",
       "\n",
       "  TotalWorkingYears  TrainingTimesLastYear WorkLifeBalance  YearsAtCompany  \\\n",
       "0                 7                    1.0               2             2.0   \n",
       "1                10                    2.0               3             8.0   \n",
       "2                12                    2.0               2            13.0   \n",
       "3                 2                    4.0               3             3.0   \n",
       "4                12                    6.0               3             5.0   \n",
       "\n",
       "   YearsInCurrentRole  YearsSinceLastPromotion YearsWithCurrManager  \n",
       "0                   2                        2                    2  \n",
       "1                   0                        0                    0  \n",
       "2                   3                        1                    4  \n",
       "3                   0                        0                    0  \n",
       "4                   3                        1                    0  \n",
       "\n",
       "[5 rows x 33 columns]"
      ]
     },
     "execution_count": 1,
     "metadata": {},
     "output_type": "execute_result"
    }
   ],
   "source": [
    "import math\n",
    "import pandas as pd\n",
    "import numpy as np\n",
    "from numpy import asarray\n",
    "import matplotlib.pyplot as plt\n",
    "from matplotlib import figure\n",
    "import seaborn as sn\n",
    "from sklearn.linear_model import LinearRegression\n",
    "from sklearn.cluster import KMeans, DBSCAN\n",
    "from sklearn.preprocessing import MinMaxScaler, StandardScaler, RobustScaler, LabelEncoder, OneHotEncoder \n",
    "from sklearn.metrics import silhouette_samples, silhouette_score\n",
    "from collections import Counter\n",
    "from scipy import stats\n",
    "%matplotlib inline\n",
    "\n",
    "df_test = pd.read_csv(\"https://raw.githubusercontent.com/marioproia/Progetto_DM1/master/Test_HR_Employee_Attrition.csv?token=ANVE7JLUER3W3JV3UGB3EMC7V23RA\")\n",
    "df_train = pd.read_csv(\"https://raw.githubusercontent.com/marioproia/Progetto_DM1/master/Train_HR_Employee_Attrition.csv?token=ANVE7JJR2LXUAEARHY3CNH27V23SQ\")\n",
    "\n",
    "frame = [df_test, df_train]\n",
    "df3 = pd.concat(frame)\n",
    "df3.head()"
   ]
  },
  {
   "cell_type": "markdown",
   "metadata": {},
   "source": [
    "# DATA UNDERSTANDING"
   ]
  },
  {
   "cell_type": "code",
   "execution_count": 2,
   "metadata": {},
   "outputs": [],
   "source": [
    "new_df = df3[['Age', 'Attrition', 'BusinessTravel',  'Department', 'DistanceFromHome', 'Education', 'EducationField','HourlyRate',\n",
    "       'EnvironmentSatisfaction','Gender',  'JobLevel',  'JobSatisfaction', 'OverTime', 'PercentSalaryHike', 'WorkLifeBalance',\n",
    "        \"MonthlyIncome\", \"TrainingTimesLastYear\", \"NumCompaniesWorked\", \"MaritalStatus\", \"PerformanceRating\", \n",
    "        'TotalWorkingYears', 'YearsAtCompany',\"YearsSinceLastPromotion\", \"YearsInCurrentRole\", \"YearsWithCurrManager\"]]"
   ]
  },
  {
   "cell_type": "code",
   "execution_count": null,
   "metadata": {},
   "outputs": [],
   "source": []
  },
  {
   "cell_type": "code",
   "execution_count": 3,
   "metadata": {},
   "outputs": [
    {
     "data": {
      "text/html": [
       "<div>\n",
       "<style scoped>\n",
       "    .dataframe tbody tr th:only-of-type {\n",
       "        vertical-align: middle;\n",
       "    }\n",
       "\n",
       "    .dataframe tbody tr th {\n",
       "        vertical-align: top;\n",
       "    }\n",
       "\n",
       "    .dataframe thead th {\n",
       "        text-align: right;\n",
       "    }\n",
       "</style>\n",
       "<table border=\"1\" class=\"dataframe\">\n",
       "  <thead>\n",
       "    <tr style=\"text-align: right;\">\n",
       "      <th></th>\n",
       "      <th>Age</th>\n",
       "      <th>Attrition</th>\n",
       "      <th>BusinessTravel</th>\n",
       "      <th>Department</th>\n",
       "      <th>DistanceFromHome</th>\n",
       "      <th>Education</th>\n",
       "      <th>EducationField</th>\n",
       "      <th>HourlyRate</th>\n",
       "      <th>EnvironmentSatisfaction</th>\n",
       "      <th>Gender</th>\n",
       "      <th>...</th>\n",
       "      <th>MonthlyIncome</th>\n",
       "      <th>TrainingTimesLastYear</th>\n",
       "      <th>NumCompaniesWorked</th>\n",
       "      <th>MaritalStatus</th>\n",
       "      <th>PerformanceRating</th>\n",
       "      <th>TotalWorkingYears</th>\n",
       "      <th>YearsAtCompany</th>\n",
       "      <th>YearsSinceLastPromotion</th>\n",
       "      <th>YearsInCurrentRole</th>\n",
       "      <th>YearsWithCurrManager</th>\n",
       "    </tr>\n",
       "  </thead>\n",
       "  <tbody>\n",
       "    <tr>\n",
       "      <th>0</th>\n",
       "      <td>27.0</td>\n",
       "      <td>Yes</td>\n",
       "      <td>Travel_Frequently</td>\n",
       "      <td>Sales</td>\n",
       "      <td>15</td>\n",
       "      <td>2</td>\n",
       "      <td>Medical</td>\n",
       "      <td>59</td>\n",
       "      <td>1</td>\n",
       "      <td>Male</td>\n",
       "      <td>...</td>\n",
       "      <td>4298.0</td>\n",
       "      <td>1.0</td>\n",
       "      <td>6</td>\n",
       "      <td>Divorced</td>\n",
       "      <td>3.0</td>\n",
       "      <td>7</td>\n",
       "      <td>2.0</td>\n",
       "      <td>2</td>\n",
       "      <td>2</td>\n",
       "      <td>2</td>\n",
       "    </tr>\n",
       "    <tr>\n",
       "      <th>1</th>\n",
       "      <td>30.0</td>\n",
       "      <td>Yes</td>\n",
       "      <td>Travel_Rarely</td>\n",
       "      <td>Sales</td>\n",
       "      <td>16</td>\n",
       "      <td>4</td>\n",
       "      <td>Marketing</td>\n",
       "      <td>70</td>\n",
       "      <td>1</td>\n",
       "      <td>Male</td>\n",
       "      <td>...</td>\n",
       "      <td>5304.0</td>\n",
       "      <td>2.0</td>\n",
       "      <td>2</td>\n",
       "      <td>Married</td>\n",
       "      <td>4.0</td>\n",
       "      <td>10</td>\n",
       "      <td>8.0</td>\n",
       "      <td>0</td>\n",
       "      <td>0</td>\n",
       "      <td>0</td>\n",
       "    </tr>\n",
       "    <tr>\n",
       "      <th>2</th>\n",
       "      <td>56.0</td>\n",
       "      <td>No</td>\n",
       "      <td>Non-Travel</td>\n",
       "      <td>Research &amp; Development</td>\n",
       "      <td>2</td>\n",
       "      <td>4</td>\n",
       "      <td>Technical Degree</td>\n",
       "      <td>60</td>\n",
       "      <td>4</td>\n",
       "      <td>Male</td>\n",
       "      <td>...</td>\n",
       "      <td>6306.0</td>\n",
       "      <td>2.0</td>\n",
       "      <td>2</td>\n",
       "      <td>Divorced</td>\n",
       "      <td>4.0</td>\n",
       "      <td>12</td>\n",
       "      <td>13.0</td>\n",
       "      <td>1</td>\n",
       "      <td>3</td>\n",
       "      <td>4</td>\n",
       "    </tr>\n",
       "    <tr>\n",
       "      <th>3</th>\n",
       "      <td>41.0</td>\n",
       "      <td>Yes</td>\n",
       "      <td>Travel_Rarely</td>\n",
       "      <td>Human Resources</td>\n",
       "      <td>18</td>\n",
       "      <td>5</td>\n",
       "      <td>Human Resources</td>\n",
       "      <td>89</td>\n",
       "      <td>4</td>\n",
       "      <td>Male</td>\n",
       "      <td>...</td>\n",
       "      <td>6430.0</td>\n",
       "      <td>4.0</td>\n",
       "      <td>0</td>\n",
       "      <td>Married</td>\n",
       "      <td>3.0</td>\n",
       "      <td>2</td>\n",
       "      <td>3.0</td>\n",
       "      <td>0</td>\n",
       "      <td>0</td>\n",
       "      <td>0</td>\n",
       "    </tr>\n",
       "    <tr>\n",
       "      <th>4</th>\n",
       "      <td>42.0</td>\n",
       "      <td>No</td>\n",
       "      <td>Travel_Rarely</td>\n",
       "      <td>Research &amp; Development</td>\n",
       "      <td>1</td>\n",
       "      <td>3</td>\n",
       "      <td>Life Sciences</td>\n",
       "      <td>76</td>\n",
       "      <td>4</td>\n",
       "      <td>Male</td>\n",
       "      <td>...</td>\n",
       "      <td>2766.0</td>\n",
       "      <td>6.0</td>\n",
       "      <td>3</td>\n",
       "      <td>Married</td>\n",
       "      <td>4.0</td>\n",
       "      <td>12</td>\n",
       "      <td>5.0</td>\n",
       "      <td>1</td>\n",
       "      <td>3</td>\n",
       "      <td>0</td>\n",
       "    </tr>\n",
       "  </tbody>\n",
       "</table>\n",
       "<p>5 rows × 25 columns</p>\n",
       "</div>"
      ],
      "text/plain": [
       "    Age Attrition     BusinessTravel              Department  \\\n",
       "0  27.0       Yes  Travel_Frequently                   Sales   \n",
       "1  30.0       Yes      Travel_Rarely                   Sales   \n",
       "2  56.0        No         Non-Travel  Research & Development   \n",
       "3  41.0       Yes      Travel_Rarely         Human Resources   \n",
       "4  42.0        No      Travel_Rarely  Research & Development   \n",
       "\n",
       "   DistanceFromHome  Education    EducationField  HourlyRate  \\\n",
       "0                15          2           Medical          59   \n",
       "1                16          4         Marketing          70   \n",
       "2                 2          4  Technical Degree          60   \n",
       "3                18          5   Human Resources          89   \n",
       "4                 1          3     Life Sciences          76   \n",
       "\n",
       "   EnvironmentSatisfaction Gender  ...  MonthlyIncome  TrainingTimesLastYear  \\\n",
       "0                        1   Male  ...         4298.0                    1.0   \n",
       "1                        1   Male  ...         5304.0                    2.0   \n",
       "2                        4   Male  ...         6306.0                    2.0   \n",
       "3                        4   Male  ...         6430.0                    4.0   \n",
       "4                        4   Male  ...         2766.0                    6.0   \n",
       "\n",
       "  NumCompaniesWorked  MaritalStatus  PerformanceRating  TotalWorkingYears  \\\n",
       "0                  6       Divorced                3.0                  7   \n",
       "1                  2        Married                4.0                 10   \n",
       "2                  2       Divorced                4.0                 12   \n",
       "3                  0        Married                3.0                  2   \n",
       "4                  3        Married                4.0                 12   \n",
       "\n",
       "   YearsAtCompany  YearsSinceLastPromotion YearsInCurrentRole  \\\n",
       "0             2.0                        2                  2   \n",
       "1             8.0                        0                  0   \n",
       "2            13.0                        1                  3   \n",
       "3             3.0                        0                  0   \n",
       "4             5.0                        1                  3   \n",
       "\n",
       "   YearsWithCurrManager  \n",
       "0                     2  \n",
       "1                     0  \n",
       "2                     4  \n",
       "3                     0  \n",
       "4                     0  \n",
       "\n",
       "[5 rows x 25 columns]"
      ]
     },
     "execution_count": 3,
     "metadata": {},
     "output_type": "execute_result"
    }
   ],
   "source": [
    "#Riempio i valori mancanti\n",
    "valori = {\"Age\": new_df[\"Age\"].mean(),\n",
    "          \"Gender\": \"Male\", \n",
    "          \"BusinessTravel\": \"Travel_Rarely\", \n",
    "          \"YearsAtCompany\": new_df[\"YearsAtCompany\"].median(),\n",
    "          \"TrainingTimesLastYear\": new_df[\"TrainingTimesLastYear\"].median(),\n",
    "          \"PerformanceRating\": new_df[\"PerformanceRating\"].median()}\n",
    "\n",
    "new_df = new_df.fillna(value=valori)\n",
    "\n",
    "#Separo new_df in due dataset, uno filtrato per Male e uno per Female \n",
    "male_df = new_df[new_df[\"Gender\"] == \"Male\"]\n",
    "female_df = new_df[new_df[\"Gender\"] == \"Female\"]\n",
    "\n",
    "#Sostituisco i valori vuoti di MonthlyIncome con la mediana per Male\n",
    "male_income = {\"MonthlyIncome\": 4865.5}\n",
    "male_df = male_df.fillna(value=male_income)\n",
    "\n",
    "#Sostituisco i valori vuoti di MonthlyIncome con la mediana per Female\n",
    "female_income = {\"MonthlyIncome\": 5197.0}\n",
    "female_df = female_df.fillna(value=female_income)\n",
    "\n",
    "#Riunisco i dataset che avevo separato, con tutti i missing values riempiti\n",
    "frame = [male_df, female_df]\n",
    "new_df = pd.concat(frame)\n",
    "\n",
    "#df contiene il dataset con i missing values riempiti\n",
    "df = new_df\n",
    "df.head()"
   ]
  },
  {
   "cell_type": "code",
   "execution_count": 4,
   "metadata": {},
   "outputs": [
    {
     "data": {
      "text/html": [
       "<div>\n",
       "<style scoped>\n",
       "    .dataframe tbody tr th:only-of-type {\n",
       "        vertical-align: middle;\n",
       "    }\n",
       "\n",
       "    .dataframe tbody tr th {\n",
       "        vertical-align: top;\n",
       "    }\n",
       "\n",
       "    .dataframe thead th {\n",
       "        text-align: right;\n",
       "    }\n",
       "</style>\n",
       "<table border=\"1\" class=\"dataframe\">\n",
       "  <thead>\n",
       "    <tr style=\"text-align: right;\">\n",
       "      <th></th>\n",
       "      <th>YearsAtCompany</th>\n",
       "      <th>TotalWorkingYears</th>\n",
       "    </tr>\n",
       "  </thead>\n",
       "  <tbody>\n",
       "    <tr>\n",
       "      <th>2</th>\n",
       "      <td>13.0</td>\n",
       "      <td>12</td>\n",
       "    </tr>\n",
       "    <tr>\n",
       "      <th>3</th>\n",
       "      <td>3.0</td>\n",
       "      <td>2</td>\n",
       "    </tr>\n",
       "    <tr>\n",
       "      <th>5</th>\n",
       "      <td>20.0</td>\n",
       "      <td>10</td>\n",
       "    </tr>\n",
       "    <tr>\n",
       "      <th>17</th>\n",
       "      <td>16.0</td>\n",
       "      <td>6</td>\n",
       "    </tr>\n",
       "    <tr>\n",
       "      <th>23</th>\n",
       "      <td>8.0</td>\n",
       "      <td>6</td>\n",
       "    </tr>\n",
       "    <tr>\n",
       "      <th>...</th>\n",
       "      <td>...</td>\n",
       "      <td>...</td>\n",
       "    </tr>\n",
       "    <tr>\n",
       "      <th>1132</th>\n",
       "      <td>16.0</td>\n",
       "      <td>5</td>\n",
       "    </tr>\n",
       "    <tr>\n",
       "      <th>1168</th>\n",
       "      <td>14.0</td>\n",
       "      <td>6</td>\n",
       "    </tr>\n",
       "    <tr>\n",
       "      <th>1170</th>\n",
       "      <td>10.0</td>\n",
       "      <td>1</td>\n",
       "    </tr>\n",
       "    <tr>\n",
       "      <th>1171</th>\n",
       "      <td>17.0</td>\n",
       "      <td>1</td>\n",
       "    </tr>\n",
       "    <tr>\n",
       "      <th>1175</th>\n",
       "      <td>22.0</td>\n",
       "      <td>0</td>\n",
       "    </tr>\n",
       "  </tbody>\n",
       "</table>\n",
       "<p>407 rows × 2 columns</p>\n",
       "</div>"
      ],
      "text/plain": [
       "      YearsAtCompany  TotalWorkingYears\n",
       "2               13.0                 12\n",
       "3                3.0                  2\n",
       "5               20.0                 10\n",
       "17              16.0                  6\n",
       "23               8.0                  6\n",
       "...              ...                ...\n",
       "1132            16.0                  5\n",
       "1168            14.0                  6\n",
       "1170            10.0                  1\n",
       "1171            17.0                  1\n",
       "1175            22.0                  0\n",
       "\n",
       "[407 rows x 2 columns]"
      ]
     },
     "execution_count": 4,
     "metadata": {},
     "output_type": "execute_result"
    }
   ],
   "source": [
    "filtro = df[[\"YearsAtCompany\", \"TotalWorkingYears\"]]\n",
    "filtro[filtro[\"TotalWorkingYears\"] < filtro[\"YearsAtCompany\"]]"
   ]
  },
  {
   "cell_type": "markdown",
   "metadata": {},
   "source": [
    "# CORREZIONE ERRORI"
   ]
  },
  {
   "cell_type": "code",
   "execution_count": 5,
   "metadata": {},
   "outputs": [
    {
     "data": {
      "text/html": [
       "<div>\n",
       "<style scoped>\n",
       "    .dataframe tbody tr th:only-of-type {\n",
       "        vertical-align: middle;\n",
       "    }\n",
       "\n",
       "    .dataframe tbody tr th {\n",
       "        vertical-align: top;\n",
       "    }\n",
       "\n",
       "    .dataframe thead th {\n",
       "        text-align: right;\n",
       "    }\n",
       "</style>\n",
       "<table border=\"1\" class=\"dataframe\">\n",
       "  <thead>\n",
       "    <tr style=\"text-align: right;\">\n",
       "      <th></th>\n",
       "      <th>Age</th>\n",
       "      <th>Attrition</th>\n",
       "      <th>BusinessTravel</th>\n",
       "      <th>Department</th>\n",
       "      <th>DistanceFromHome</th>\n",
       "      <th>Education</th>\n",
       "      <th>EducationField</th>\n",
       "      <th>HourlyRate</th>\n",
       "      <th>EnvironmentSatisfaction</th>\n",
       "      <th>Gender</th>\n",
       "      <th>...</th>\n",
       "      <th>MonthlyIncome</th>\n",
       "      <th>TrainingTimesLastYear</th>\n",
       "      <th>NumCompaniesWorked</th>\n",
       "      <th>MaritalStatus</th>\n",
       "      <th>PerformanceRating</th>\n",
       "      <th>TotalWorkingYears</th>\n",
       "      <th>YearsAtCompany</th>\n",
       "      <th>YearsSinceLastPromotion</th>\n",
       "      <th>YearsInCurrentRole</th>\n",
       "      <th>YearsWithCurrManager</th>\n",
       "    </tr>\n",
       "  </thead>\n",
       "  <tbody>\n",
       "    <tr>\n",
       "      <th>0</th>\n",
       "      <td>27.0</td>\n",
       "      <td>Yes</td>\n",
       "      <td>Travel_Frequently</td>\n",
       "      <td>Sales</td>\n",
       "      <td>15</td>\n",
       "      <td>2</td>\n",
       "      <td>Medical</td>\n",
       "      <td>59</td>\n",
       "      <td>1</td>\n",
       "      <td>Male</td>\n",
       "      <td>...</td>\n",
       "      <td>4298.0</td>\n",
       "      <td>1.0</td>\n",
       "      <td>6</td>\n",
       "      <td>Divorced</td>\n",
       "      <td>3.0</td>\n",
       "      <td>7</td>\n",
       "      <td>2.0</td>\n",
       "      <td>2</td>\n",
       "      <td>2</td>\n",
       "      <td>2</td>\n",
       "    </tr>\n",
       "    <tr>\n",
       "      <th>1</th>\n",
       "      <td>30.0</td>\n",
       "      <td>Yes</td>\n",
       "      <td>Travel_Rarely</td>\n",
       "      <td>Sales</td>\n",
       "      <td>16</td>\n",
       "      <td>4</td>\n",
       "      <td>Marketing</td>\n",
       "      <td>70</td>\n",
       "      <td>1</td>\n",
       "      <td>Male</td>\n",
       "      <td>...</td>\n",
       "      <td>5304.0</td>\n",
       "      <td>2.0</td>\n",
       "      <td>2</td>\n",
       "      <td>Married</td>\n",
       "      <td>4.0</td>\n",
       "      <td>10</td>\n",
       "      <td>8.0</td>\n",
       "      <td>0</td>\n",
       "      <td>0</td>\n",
       "      <td>0</td>\n",
       "    </tr>\n",
       "    <tr>\n",
       "      <th>2</th>\n",
       "      <td>56.0</td>\n",
       "      <td>No</td>\n",
       "      <td>Non-Travel</td>\n",
       "      <td>Research &amp; Development</td>\n",
       "      <td>2</td>\n",
       "      <td>4</td>\n",
       "      <td>Technical Degree</td>\n",
       "      <td>60</td>\n",
       "      <td>4</td>\n",
       "      <td>Male</td>\n",
       "      <td>...</td>\n",
       "      <td>6306.0</td>\n",
       "      <td>2.0</td>\n",
       "      <td>2</td>\n",
       "      <td>Divorced</td>\n",
       "      <td>4.0</td>\n",
       "      <td>12</td>\n",
       "      <td>12.0</td>\n",
       "      <td>1</td>\n",
       "      <td>3</td>\n",
       "      <td>4</td>\n",
       "    </tr>\n",
       "    <tr>\n",
       "      <th>3</th>\n",
       "      <td>41.0</td>\n",
       "      <td>Yes</td>\n",
       "      <td>Travel_Rarely</td>\n",
       "      <td>Human Resources</td>\n",
       "      <td>18</td>\n",
       "      <td>5</td>\n",
       "      <td>Human Resources</td>\n",
       "      <td>89</td>\n",
       "      <td>4</td>\n",
       "      <td>Male</td>\n",
       "      <td>...</td>\n",
       "      <td>6430.0</td>\n",
       "      <td>4.0</td>\n",
       "      <td>0</td>\n",
       "      <td>Married</td>\n",
       "      <td>3.0</td>\n",
       "      <td>2</td>\n",
       "      <td>2.0</td>\n",
       "      <td>0</td>\n",
       "      <td>0</td>\n",
       "      <td>0</td>\n",
       "    </tr>\n",
       "    <tr>\n",
       "      <th>4</th>\n",
       "      <td>42.0</td>\n",
       "      <td>No</td>\n",
       "      <td>Travel_Rarely</td>\n",
       "      <td>Research &amp; Development</td>\n",
       "      <td>1</td>\n",
       "      <td>3</td>\n",
       "      <td>Life Sciences</td>\n",
       "      <td>76</td>\n",
       "      <td>4</td>\n",
       "      <td>Male</td>\n",
       "      <td>...</td>\n",
       "      <td>2766.0</td>\n",
       "      <td>6.0</td>\n",
       "      <td>3</td>\n",
       "      <td>Married</td>\n",
       "      <td>4.0</td>\n",
       "      <td>12</td>\n",
       "      <td>5.0</td>\n",
       "      <td>1</td>\n",
       "      <td>3</td>\n",
       "      <td>0</td>\n",
       "    </tr>\n",
       "  </tbody>\n",
       "</table>\n",
       "<p>5 rows × 25 columns</p>\n",
       "</div>"
      ],
      "text/plain": [
       "    Age Attrition     BusinessTravel              Department  \\\n",
       "0  27.0       Yes  Travel_Frequently                   Sales   \n",
       "1  30.0       Yes      Travel_Rarely                   Sales   \n",
       "2  56.0        No         Non-Travel  Research & Development   \n",
       "3  41.0       Yes      Travel_Rarely         Human Resources   \n",
       "4  42.0        No      Travel_Rarely  Research & Development   \n",
       "\n",
       "   DistanceFromHome  Education    EducationField  HourlyRate  \\\n",
       "0                15          2           Medical          59   \n",
       "1                16          4         Marketing          70   \n",
       "2                 2          4  Technical Degree          60   \n",
       "3                18          5   Human Resources          89   \n",
       "4                 1          3     Life Sciences          76   \n",
       "\n",
       "   EnvironmentSatisfaction Gender  ...  MonthlyIncome  TrainingTimesLastYear  \\\n",
       "0                        1   Male  ...         4298.0                    1.0   \n",
       "1                        1   Male  ...         5304.0                    2.0   \n",
       "2                        4   Male  ...         6306.0                    2.0   \n",
       "3                        4   Male  ...         6430.0                    4.0   \n",
       "4                        4   Male  ...         2766.0                    6.0   \n",
       "\n",
       "  NumCompaniesWorked  MaritalStatus  PerformanceRating  TotalWorkingYears  \\\n",
       "0                  6       Divorced                3.0                  7   \n",
       "1                  2        Married                4.0                 10   \n",
       "2                  2       Divorced                4.0                 12   \n",
       "3                  0        Married                3.0                  2   \n",
       "4                  3        Married                4.0                 12   \n",
       "\n",
       "   YearsAtCompany  YearsSinceLastPromotion YearsInCurrentRole  \\\n",
       "0             2.0                        2                  2   \n",
       "1             8.0                        0                  0   \n",
       "2            12.0                        1                  3   \n",
       "3             2.0                        0                  0   \n",
       "4             5.0                        1                  3   \n",
       "\n",
       "   YearsWithCurrManager  \n",
       "0                     2  \n",
       "1                     0  \n",
       "2                     4  \n",
       "3                     0  \n",
       "4                     0  \n",
       "\n",
       "[5 rows x 25 columns]"
      ]
     },
     "execution_count": 5,
     "metadata": {},
     "output_type": "execute_result"
    }
   ],
   "source": [
    "filtro = df[[\"YearsAtCompany\", \"TotalWorkingYears\"]]\n",
    "\n",
    "nuova = []\n",
    "YearsAtCompany = filtro[\"YearsAtCompany\"].to_list()\n",
    "TotalWorkingYears = filtro[\"TotalWorkingYears\"].to_list()\n",
    "\n",
    "for i in range(len(YearsAtCompany)):\n",
    "    if YearsAtCompany[i] > TotalWorkingYears[i]:\n",
    "        nuova.append(TotalWorkingYears[i])\n",
    "    else:\n",
    "        nuova.append(YearsAtCompany[i])\n",
    "        \n",
    "df[\"YearsAtCompany\"] = nuova\n",
    "df = df[df[\"TotalWorkingYears\"] != 0]\n",
    "df.head()"
   ]
  },
  {
   "cell_type": "code",
   "execution_count": null,
   "metadata": {},
   "outputs": [],
   "source": []
  },
  {
   "cell_type": "code",
   "execution_count": 6,
   "metadata": {},
   "outputs": [],
   "source": [
    "df.to_csv(r'C:\\Users\\Mario\\Desktop\\UniPi\\1° semestre\\Data Mining 1\\Datasets\\DatasetProject1\\df.csv', index = False)"
   ]
  },
  {
   "cell_type": "code",
   "execution_count": null,
   "metadata": {},
   "outputs": [],
   "source": []
  },
  {
   "cell_type": "code",
   "execution_count": null,
   "metadata": {},
   "outputs": [],
   "source": []
  },
  {
   "cell_type": "code",
   "execution_count": null,
   "metadata": {},
   "outputs": [],
   "source": []
  },
  {
   "cell_type": "markdown",
   "metadata": {},
   "source": [
    "# OUTLIER DETECTION"
   ]
  },
  {
   "cell_type": "code",
   "execution_count": 7,
   "metadata": {},
   "outputs": [
    {
     "name": "stdout",
     "output_type": "stream",
     "text": [
      "IQR:  (63, 25)\n",
      "ZSCORE:  (16, 26)\n",
      "STD:  (16, 26)\n"
     ]
    },
    {
     "name": "stderr",
     "output_type": "stream",
     "text": [
      "<ipython-input-7-db6299eda809>:10: SettingWithCopyWarning: \n",
      "A value is trying to be set on a copy of a slice from a DataFrame.\n",
      "Try using .loc[row_indexer,col_indexer] = value instead\n",
      "\n",
      "See the caveats in the documentation: https://pandas.pydata.org/pandas-docs/stable/user_guide/indexing.html#returning-a-view-versus-a-copy\n",
      "  df[\"TWYears_zscore\"] = (df.TotalWorkingYears - df.TotalWorkingYears.mean())/df.TotalWorkingYears.std()\n"
     ]
    }
   ],
   "source": [
    "#Metodo con IQR\n",
    "TotalWorkingYears_Q1 = df.TotalWorkingYears.quantile(0.25)\n",
    "TotalWorkingYears_Q3 = df.TotalWorkingYears.quantile(0.75)\n",
    "TotalWorkingYears_IQR = TotalWorkingYears_Q3 - TotalWorkingYears_Q1\n",
    "lower = TotalWorkingYears_Q1 - 1.5*TotalWorkingYears_IQR\n",
    "upper = TotalWorkingYears_Q3 + 1.5*TotalWorkingYears_IQR\n",
    "print(\"IQR: \", df[ (df[\"TotalWorkingYears\"]<lower) | (df[\"TotalWorkingYears\"]>upper) ].shape)\n",
    "\n",
    "#Metodo con ZSCORE\n",
    "df[\"TWYears_zscore\"] = (df.TotalWorkingYears - df.TotalWorkingYears.mean())/df.TotalWorkingYears.std()\n",
    "print(\"ZSCORE: \", df[ (df[\"TWYears_zscore\"]<-3) | (df[\"TWYears_zscore\"]>3) ].shape)\n",
    "\n",
    "#Metodo con STD\n",
    "TotalWorkingYears_UL = df.TotalWorkingYears.mean() + 3*df.TotalWorkingYears.std()\n",
    "TotalWorkingYears_LL = df.TotalWorkingYears.mean() - 3*df.TotalWorkingYears.std()\n",
    "print(\"STD: \",df[df.TotalWorkingYears > TotalWorkingYears_UL].shape)"
   ]
  },
  {
   "cell_type": "code",
   "execution_count": 8,
   "metadata": {},
   "outputs": [
    {
     "name": "stdout",
     "output_type": "stream",
     "text": [
      "IQR:  (41, 26)\n",
      "ZSCORE:  (29, 27)\n",
      "STD:  (29, 27)\n"
     ]
    },
    {
     "name": "stderr",
     "output_type": "stream",
     "text": [
      "<ipython-input-8-4695cbb9d540>:10: SettingWithCopyWarning: \n",
      "A value is trying to be set on a copy of a slice from a DataFrame.\n",
      "Try using .loc[row_indexer,col_indexer] = value instead\n",
      "\n",
      "See the caveats in the documentation: https://pandas.pydata.org/pandas-docs/stable/user_guide/indexing.html#returning-a-view-versus-a-copy\n",
      "  df[\"YearsAtCompany_zscore\"] = (df.YearsAtCompany - df.YearsAtCompany.mean())/df.YearsAtCompany.std()\n"
     ]
    }
   ],
   "source": [
    "#Metodo con IQR\n",
    "YearsAtCompany_Q1 = df.YearsAtCompany.quantile(0.25)\n",
    "YearsAtCompany_Q3 = df.YearsAtCompany.quantile(0.75)\n",
    "YearsAtCompany_IQR = YearsAtCompany_Q3 - YearsAtCompany_Q1\n",
    "lower = YearsAtCompany_Q1 - 1.5*YearsAtCompany_IQR\n",
    "upper = YearsAtCompany_Q3 + 1.5*YearsAtCompany_IQR\n",
    "print(\"IQR: \", df[ (df[\"YearsAtCompany\"]<lower) | (df[\"YearsAtCompany\"]>upper) ].shape)\n",
    "\n",
    "#Metodo con ZSCORE\n",
    "df[\"YearsAtCompany_zscore\"] = (df.YearsAtCompany - df.YearsAtCompany.mean())/df.YearsAtCompany.std()\n",
    "print(\"ZSCORE: \", df[ (df[\"YearsAtCompany_zscore\"]<-3) | (df[\"YearsAtCompany_zscore\"]>3) ].shape)\n",
    "\n",
    "#Metodo con STD\n",
    "YearsAtCompany_UL = df.YearsAtCompany.mean() + 3*df.YearsAtCompany.std()\n",
    "YearsAtCompany_LL = df.YearsAtCompany.mean() - 3*df.YearsAtCompany.std()\n",
    "print(\"STD: \", df[df.YearsAtCompany > YearsAtCompany_UL].shape)"
   ]
  },
  {
   "cell_type": "code",
   "execution_count": 9,
   "metadata": {},
   "outputs": [
    {
     "name": "stdout",
     "output_type": "stream",
     "text": [
      "IQR:  (21, 27)\n",
      "ZSCORE:  (13, 28)\n",
      "STD:  (13, 28)\n"
     ]
    },
    {
     "name": "stderr",
     "output_type": "stream",
     "text": [
      "<ipython-input-9-1a6fabe7a97b>:10: SettingWithCopyWarning: \n",
      "A value is trying to be set on a copy of a slice from a DataFrame.\n",
      "Try using .loc[row_indexer,col_indexer] = value instead\n",
      "\n",
      "See the caveats in the documentation: https://pandas.pydata.org/pandas-docs/stable/user_guide/indexing.html#returning-a-view-versus-a-copy\n",
      "  df[\"YearsInCurrentRole_zscore\"] = (df.YearsInCurrentRole - df.YearsInCurrentRole.mean())/df.YearsInCurrentRole.std()\n"
     ]
    }
   ],
   "source": [
    "#Metodo con IQR\n",
    "YearsInCurrentRole_Q1 = df.YearsInCurrentRole.quantile(0.25)\n",
    "YearsInCurrentRole_Q3 = df.YearsInCurrentRole.quantile(0.75)\n",
    "YearsInCurrentRole_IQR = YearsInCurrentRole_Q3 - YearsInCurrentRole_Q1\n",
    "lower = YearsInCurrentRole_Q1 - 1.5*YearsInCurrentRole_IQR\n",
    "upper = YearsInCurrentRole_Q3 + 1.5*YearsInCurrentRole_IQR\n",
    "print(\"IQR: \", df[ (df[\"YearsInCurrentRole\"]<lower) | (df[\"YearsInCurrentRole\"]>upper) ].shape)\n",
    "\n",
    "#Metodo con ZSCORE\n",
    "df[\"YearsInCurrentRole_zscore\"] = (df.YearsInCurrentRole - df.YearsInCurrentRole.mean())/df.YearsInCurrentRole.std()\n",
    "print(\"ZSCORE: \", df[ (df[\"YearsInCurrentRole_zscore\"]<-3) | (df[\"YearsInCurrentRole_zscore\"]>3) ].shape)\n",
    "\n",
    "#Metodo con STD\n",
    "YearsInCurrentRole_UL = df.YearsInCurrentRole.mean() + 3*df.YearsInCurrentRole.std()\n",
    "YearsInCurrentRole_LL = df.YearsInCurrentRole.mean() - 3*df.YearsInCurrentRole.std()\n",
    "print(\"STD: \", df[df.YearsInCurrentRole > YearsInCurrentRole_UL].shape)"
   ]
  },
  {
   "cell_type": "code",
   "execution_count": 10,
   "metadata": {},
   "outputs": [
    {
     "name": "stdout",
     "output_type": "stream",
     "text": [
      "IQR:  (14, 28)\n",
      "ZSCORE:  (14, 29)\n",
      "STD:  (14, 29)\n"
     ]
    },
    {
     "name": "stderr",
     "output_type": "stream",
     "text": [
      "<ipython-input-10-c54963cb0cc4>:10: SettingWithCopyWarning: \n",
      "A value is trying to be set on a copy of a slice from a DataFrame.\n",
      "Try using .loc[row_indexer,col_indexer] = value instead\n",
      "\n",
      "See the caveats in the documentation: https://pandas.pydata.org/pandas-docs/stable/user_guide/indexing.html#returning-a-view-versus-a-copy\n",
      "  df[\"YearsWithCurrManager_zscore\"] = (df.YearsWithCurrManager - df.YearsWithCurrManager.mean())/df.YearsWithCurrManager.std()\n"
     ]
    }
   ],
   "source": [
    "#Metodo con IQR\n",
    "YearsWithCurrManager_Q1 = df.YearsWithCurrManager.quantile(0.25)\n",
    "YearsWithCurrManager_Q3 = df.YearsWithCurrManager.quantile(0.75)\n",
    "YearsWithCurrManager_IQR = YearsWithCurrManager_Q3 - YearsWithCurrManager_Q1\n",
    "lower = YearsWithCurrManager_Q1 - 1.5*YearsWithCurrManager_IQR\n",
    "upper = YearsWithCurrManager_Q3 + 1.5*YearsWithCurrManager_IQR\n",
    "print(\"IQR: \", df[ (df[\"YearsWithCurrManager\"]<lower) | (df[\"YearsWithCurrManager\"]>upper) ].shape)\n",
    "\n",
    "#Metodo con ZSCORE\n",
    "df[\"YearsWithCurrManager_zscore\"] = (df.YearsWithCurrManager - df.YearsWithCurrManager.mean())/df.YearsWithCurrManager.std()\n",
    "print(\"ZSCORE: \", df[ (df[\"YearsWithCurrManager_zscore\"]<-3) | (df[\"YearsWithCurrManager_zscore\"]>3) ].shape)\n",
    "\n",
    "#Metodo con STD\n",
    "YearsWithCurrManager_UL = df.YearsWithCurrManager.mean() + 3*df.YearsWithCurrManager.std()\n",
    "YearsWithCurrManager_LL = df.YearsWithCurrManager.mean() - 3*df.YearsWithCurrManager.std()\n",
    "print(\"STD: \", df[df.YearsWithCurrManager > YearsWithCurrManager_UL].shape)"
   ]
  },
  {
   "cell_type": "code",
   "execution_count": 11,
   "metadata": {},
   "outputs": [
    {
     "name": "stdout",
     "output_type": "stream",
     "text": [
      "IQR:  (107, 29)\n",
      "ZSCORE:  (42, 30)\n",
      "STD:  (42, 30)\n"
     ]
    },
    {
     "name": "stderr",
     "output_type": "stream",
     "text": [
      "<ipython-input-11-86bc6adc06b9>:10: SettingWithCopyWarning: \n",
      "A value is trying to be set on a copy of a slice from a DataFrame.\n",
      "Try using .loc[row_indexer,col_indexer] = value instead\n",
      "\n",
      "See the caveats in the documentation: https://pandas.pydata.org/pandas-docs/stable/user_guide/indexing.html#returning-a-view-versus-a-copy\n",
      "  df[\"YearsSinceLastPromotion_zscore\"] = (df.YearsSinceLastPromotion - df.YearsSinceLastPromotion.mean())/df.YearsSinceLastPromotion.std()\n"
     ]
    }
   ],
   "source": [
    "#Metodo con IQR\n",
    "YearsSinceLastPromotion_Q1 = df.YearsSinceLastPromotion.quantile(0.25)\n",
    "YearsSinceLastPromotion_Q3 = df.YearsSinceLastPromotion.quantile(0.75)\n",
    "YearsSinceLastPromotion_IQR = YearsSinceLastPromotion_Q3 - YearsSinceLastPromotion_Q1\n",
    "lower = YearsSinceLastPromotion_Q1 - 1.5*YearsSinceLastPromotion_IQR\n",
    "upper = YearsSinceLastPromotion_Q3 + 1.5*YearsSinceLastPromotion_IQR\n",
    "print(\"IQR: \", df[ (df[\"YearsSinceLastPromotion\"]<lower) | (df[\"YearsSinceLastPromotion\"]>upper) ].shape)\n",
    "\n",
    "#Metodo con ZSCORE\n",
    "df[\"YearsSinceLastPromotion_zscore\"] = (df.YearsSinceLastPromotion - df.YearsSinceLastPromotion.mean())/df.YearsSinceLastPromotion.std()\n",
    "print(\"ZSCORE: \", df[ (df[\"YearsSinceLastPromotion_zscore\"]<-3) | (df[\"YearsSinceLastPromotion_zscore\"]>3) ].shape)\n",
    "\n",
    "#Metodo con STD\n",
    "YearsSinceLastPromotion_UL = df.YearsSinceLastPromotion.mean() + 3*df.YearsSinceLastPromotion.std()\n",
    "YearsSinceLastPromotion_LL = df.YearsSinceLastPromotion.mean() - 3*df.YearsSinceLastPromotion.std()\n",
    "print(\"STD: \", df[df.YearsSinceLastPromotion > YearsSinceLastPromotion_UL].shape)"
   ]
  },
  {
   "cell_type": "code",
   "execution_count": 12,
   "metadata": {
    "scrolled": true
   },
   "outputs": [
    {
     "name": "stdout",
     "output_type": "stream",
     "text": [
      "Totale outliers\n",
      "IQR:  299\n",
      "ZSCORE:  109\n",
      "STD:  109\n"
     ]
    }
   ],
   "source": [
    "print(\"Totale outliers\")\n",
    "print(\"IQR: \", sum([63,94,21,14,107]))\n",
    "print(\"ZSCORE: \", sum([16,24,13,14,42]))\n",
    "print(\"STD: \", sum([16,24,13,14,42]))"
   ]
  },
  {
   "cell_type": "code",
   "execution_count": null,
   "metadata": {},
   "outputs": [],
   "source": []
  },
  {
   "cell_type": "code",
   "execution_count": null,
   "metadata": {},
   "outputs": [],
   "source": []
  },
  {
   "cell_type": "code",
   "execution_count": null,
   "metadata": {},
   "outputs": [],
   "source": []
  },
  {
   "cell_type": "code",
   "execution_count": null,
   "metadata": {},
   "outputs": [],
   "source": []
  },
  {
   "cell_type": "code",
   "execution_count": null,
   "metadata": {},
   "outputs": [],
   "source": []
  },
  {
   "cell_type": "code",
   "execution_count": null,
   "metadata": {},
   "outputs": [],
   "source": []
  },
  {
   "cell_type": "markdown",
   "metadata": {},
   "source": [
    "# LOG-TRANSFORMATION"
   ]
  },
  {
   "cell_type": "code",
   "execution_count": 13,
   "metadata": {},
   "outputs": [
    {
     "data": {
      "text/html": [
       "<div>\n",
       "<style scoped>\n",
       "    .dataframe tbody tr th:only-of-type {\n",
       "        vertical-align: middle;\n",
       "    }\n",
       "\n",
       "    .dataframe tbody tr th {\n",
       "        vertical-align: top;\n",
       "    }\n",
       "\n",
       "    .dataframe thead th {\n",
       "        text-align: right;\n",
       "    }\n",
       "</style>\n",
       "<table border=\"1\" class=\"dataframe\">\n",
       "  <thead>\n",
       "    <tr style=\"text-align: right;\">\n",
       "      <th></th>\n",
       "      <th>TotalWorkingYears</th>\n",
       "      <th>YearsAtCompany</th>\n",
       "      <th>YearsInCurrentRole</th>\n",
       "      <th>YearsWithCurrManager</th>\n",
       "      <th>YearsSinceLastPromotion</th>\n",
       "    </tr>\n",
       "  </thead>\n",
       "  <tbody>\n",
       "    <tr>\n",
       "      <th>0</th>\n",
       "      <td>2.079442</td>\n",
       "      <td>1.098612</td>\n",
       "      <td>1.098612</td>\n",
       "      <td>1.098612</td>\n",
       "      <td>1.098612</td>\n",
       "    </tr>\n",
       "    <tr>\n",
       "      <th>1</th>\n",
       "      <td>2.397895</td>\n",
       "      <td>2.197225</td>\n",
       "      <td>0.000000</td>\n",
       "      <td>0.000000</td>\n",
       "      <td>0.000000</td>\n",
       "    </tr>\n",
       "    <tr>\n",
       "      <th>2</th>\n",
       "      <td>2.564949</td>\n",
       "      <td>2.564949</td>\n",
       "      <td>1.386294</td>\n",
       "      <td>1.609438</td>\n",
       "      <td>0.693147</td>\n",
       "    </tr>\n",
       "    <tr>\n",
       "      <th>3</th>\n",
       "      <td>1.098612</td>\n",
       "      <td>1.098612</td>\n",
       "      <td>0.000000</td>\n",
       "      <td>0.000000</td>\n",
       "      <td>0.000000</td>\n",
       "    </tr>\n",
       "    <tr>\n",
       "      <th>4</th>\n",
       "      <td>2.564949</td>\n",
       "      <td>1.791759</td>\n",
       "      <td>1.386294</td>\n",
       "      <td>0.000000</td>\n",
       "      <td>0.693147</td>\n",
       "    </tr>\n",
       "  </tbody>\n",
       "</table>\n",
       "</div>"
      ],
      "text/plain": [
       "   TotalWorkingYears  YearsAtCompany  YearsInCurrentRole  \\\n",
       "0           2.079442        1.098612            1.098612   \n",
       "1           2.397895        2.197225            0.000000   \n",
       "2           2.564949        2.564949            1.386294   \n",
       "3           1.098612        1.098612            0.000000   \n",
       "4           2.564949        1.791759            1.386294   \n",
       "\n",
       "   YearsWithCurrManager  YearsSinceLastPromotion  \n",
       "0              1.098612                 1.098612  \n",
       "1              0.000000                 0.000000  \n",
       "2              1.609438                 0.693147  \n",
       "3              0.000000                 0.000000  \n",
       "4              0.000000                 0.693147  "
      ]
     },
     "execution_count": 13,
     "metadata": {},
     "output_type": "execute_result"
    }
   ],
   "source": [
    "log_df = df[[\"TotalWorkingYears\", \"YearsAtCompany\", \"YearsInCurrentRole\", \"YearsWithCurrManager\", \"YearsSinceLastPromotion\"]]\n",
    "log_df = np.log1p(log_df)\n",
    "log_df.head()"
   ]
  },
  {
   "cell_type": "code",
   "execution_count": 14,
   "metadata": {},
   "outputs": [
    {
     "name": "stdout",
     "output_type": "stream",
     "text": [
      "IQR:  (81, 5)\n",
      "ZSCORE:  (0, 6)\n",
      "STD:  (0, 6)\n"
     ]
    }
   ],
   "source": [
    "#Metodo con IQR\n",
    "TotalWorkingYears_Q1 = log_df.TotalWorkingYears.quantile(0.25)\n",
    "TotalWorkingYears_Q3 = log_df.TotalWorkingYears.quantile(0.75)\n",
    "TotalWorkingYears_IQR = TotalWorkingYears_Q3 - TotalWorkingYears_Q1\n",
    "lower = TotalWorkingYears_Q1 - 1.5*TotalWorkingYears_IQR\n",
    "upper = TotalWorkingYears_Q3 + 1.5*TotalWorkingYears_IQR\n",
    "print(\"IQR: \", log_df[ (log_df[\"TotalWorkingYears\"]<lower) | (log_df[\"TotalWorkingYears\"]>upper) ].shape)\n",
    "\n",
    "#Metodo con ZSCORE\n",
    "log_df[\"TWYears_zscore\"] = (log_df.TotalWorkingYears - log_df.TotalWorkingYears.mean())/log_df.TotalWorkingYears.std()\n",
    "print(\"ZSCORE: \", log_df[ (log_df[\"TWYears_zscore\"]<-3) | (log_df[\"TWYears_zscore\"]>3) ].shape)\n",
    "\n",
    "#Metodo con STD\n",
    "TotalWorkingYears_UL = log_df.TotalWorkingYears.mean() + 3*log_df.TotalWorkingYears.std()\n",
    "TotalWorkingYears_LL = log_df.TotalWorkingYears.mean() - 3*log_df.TotalWorkingYears.std()\n",
    "print(\"STD: \",log_df[log_df.TotalWorkingYears > TotalWorkingYears_UL].shape)"
   ]
  },
  {
   "cell_type": "code",
   "execution_count": 15,
   "metadata": {},
   "outputs": [
    {
     "name": "stdout",
     "output_type": "stream",
     "text": [
      "IQR:  (0, 6)\n",
      "ZSCORE:  (0, 7)\n",
      "STD:  (0, 7)\n"
     ]
    }
   ],
   "source": [
    "#Metodo con IQR\n",
    "YearsAtCompany_Q1 = log_df.YearsAtCompany.quantile(0.25)\n",
    "YearsAtCompany_Q3 = log_df.YearsAtCompany.quantile(0.75)\n",
    "YearsAtCompany_IQR = YearsAtCompany_Q3 - YearsAtCompany_Q1\n",
    "lower = YearsAtCompany_Q1 - 1.5*YearsAtCompany_IQR\n",
    "upper = YearsAtCompany_Q3 + 1.5*YearsAtCompany_IQR\n",
    "print(\"IQR: \", log_df[ (log_df[\"YearsAtCompany\"]<lower) | (log_df[\"YearsAtCompany\"]>upper) ].shape)\n",
    "\n",
    "#Metodo con ZSCORE\n",
    "log_df[\"YearsAtCompany_zscore\"] = (log_df.YearsAtCompany - log_df.YearsAtCompany.mean())/log_df.YearsAtCompany.std()\n",
    "print(\"ZSCORE: \", log_df[ (log_df[\"YearsAtCompany_zscore\"]<-3) | (log_df[\"YearsAtCompany_zscore\"]>3) ].shape)\n",
    "\n",
    "#Metodo con STD\n",
    "YearsAtCompany_UL = log_df.YearsAtCompany.mean() + 3*log_df.YearsAtCompany.std()\n",
    "YearsAtCompany_LL = log_df.YearsAtCompany.mean() - 3*log_df.YearsAtCompany.std()\n",
    "print(\"STD: \", log_df[log_df.YearsAtCompany > YearsAtCompany_UL].shape)"
   ]
  },
  {
   "cell_type": "code",
   "execution_count": 16,
   "metadata": {},
   "outputs": [
    {
     "name": "stdout",
     "output_type": "stream",
     "text": [
      "IQR:  (0, 7)\n",
      "ZSCORE:  (0, 8)\n",
      "STD:  (0, 8)\n"
     ]
    }
   ],
   "source": [
    "#Metodo con IQR\n",
    "YearsInCurrentRole_Q1 = log_df.YearsInCurrentRole.quantile(0.25)\n",
    "YearsInCurrentRole_Q3 = log_df.YearsInCurrentRole.quantile(0.75)\n",
    "YearsInCurrentRole_IQR = YearsInCurrentRole_Q3 - YearsInCurrentRole_Q1\n",
    "lower = YearsInCurrentRole_Q1 - 1.5*YearsInCurrentRole_IQR\n",
    "upper = YearsInCurrentRole_Q3 + 1.5*YearsInCurrentRole_IQR\n",
    "print(\"IQR: \", log_df[ (log_df[\"YearsInCurrentRole\"]<lower) | (log_df[\"YearsInCurrentRole\"]>upper) ].shape)\n",
    "\n",
    "#Metodo con ZSCORE\n",
    "log_df[\"YearsInCurrentRole_zscore\"] = (log_df.YearsInCurrentRole - log_df.YearsInCurrentRole.mean())/log_df.YearsInCurrentRole.std()\n",
    "print(\"ZSCORE: \", log_df[ (log_df[\"YearsInCurrentRole_zscore\"]<-3) | (log_df[\"YearsInCurrentRole_zscore\"]>3) ].shape)\n",
    "\n",
    "#Metodo con STD\n",
    "YearsInCurrentRole_UL = log_df.YearsInCurrentRole.mean() + 3*log_df.YearsInCurrentRole.std()\n",
    "YearsInCurrentRole_LL = log_df.YearsInCurrentRole.mean() - 3*log_df.YearsInCurrentRole.std()\n",
    "print(\"STD: \", log_df[log_df.YearsInCurrentRole > YearsInCurrentRole_UL].shape)"
   ]
  },
  {
   "cell_type": "code",
   "execution_count": 17,
   "metadata": {},
   "outputs": [
    {
     "name": "stdout",
     "output_type": "stream",
     "text": [
      "IQR:  (0, 8)\n",
      "ZSCORE:  (0, 9)\n",
      "STD:  (0, 9)\n"
     ]
    }
   ],
   "source": [
    "#Metodo con IQR\n",
    "YearsWithCurrManager_Q1 = log_df.YearsWithCurrManager.quantile(0.25)\n",
    "YearsWithCurrManager_Q3 = log_df.YearsWithCurrManager.quantile(0.75)\n",
    "YearsWithCurrManager_IQR = YearsWithCurrManager_Q3 - YearsWithCurrManager_Q1\n",
    "lower = YearsWithCurrManager_Q1 - 1.5*YearsWithCurrManager_IQR\n",
    "upper = YearsWithCurrManager_Q3 + 1.5*YearsWithCurrManager_IQR\n",
    "print(\"IQR: \", log_df[ (log_df[\"YearsWithCurrManager\"]<lower) | (log_df[\"YearsWithCurrManager\"]>upper) ].shape)\n",
    "\n",
    "#Metodo con ZSCORE\n",
    "log_df[\"YearsWithCurrManager_zscore\"] = (log_df.YearsWithCurrManager - log_df.YearsWithCurrManager.mean())/log_df.YearsWithCurrManager.std()\n",
    "print(\"ZSCORE: \", log_df[ (log_df[\"YearsWithCurrManager_zscore\"]<-3) | (log_df[\"YearsWithCurrManager_zscore\"]>3) ].shape)\n",
    "\n",
    "#Metodo con STD\n",
    "YearsWithCurrManager_UL = log_df.YearsWithCurrManager.mean() + 3*log_df.YearsWithCurrManager.std()\n",
    "YearsWithCurrManager_LL = log_df.YearsWithCurrManager.mean() - 3*log_df.YearsWithCurrManager.std()\n",
    "print(\"STD: \", log_df[log_df.YearsWithCurrManager > YearsWithCurrManager_UL].shape)"
   ]
  },
  {
   "cell_type": "code",
   "execution_count": 18,
   "metadata": {},
   "outputs": [
    {
     "name": "stdout",
     "output_type": "stream",
     "text": [
      "IQR:  (0, 9)\n",
      "ZSCORE:  (0, 10)\n",
      "STD:  (0, 10)\n"
     ]
    }
   ],
   "source": [
    "#Metodo con IQR\n",
    "YearsSinceLastPromotion_Q1 = log_df.YearsSinceLastPromotion.quantile(0.25)\n",
    "YearsSinceLastPromotion_Q3 = log_df.YearsSinceLastPromotion.quantile(0.75)\n",
    "YearsSinceLastPromotion_IQR = YearsSinceLastPromotion_Q3 - YearsSinceLastPromotion_Q1\n",
    "lower = YearsSinceLastPromotion_Q1 - 1.5*YearsSinceLastPromotion_IQR\n",
    "upper = YearsSinceLastPromotion_Q3 + 1.5*YearsSinceLastPromotion_IQR\n",
    "print(\"IQR: \", log_df[ (log_df[\"YearsSinceLastPromotion\"]<lower) | (log_df[\"YearsSinceLastPromotion\"]>upper) ].shape)\n",
    "\n",
    "#Metodo con ZSCORE\n",
    "log_df[\"YearsSinceLastPromotion_zscore\"] = (log_df.YearsSinceLastPromotion - log_df.YearsSinceLastPromotion.mean())/log_df.YearsSinceLastPromotion.std()\n",
    "print(\"ZSCORE: \", log_df[ (log_df[\"YearsSinceLastPromotion_zscore\"]<-3) | (log_df[\"YearsSinceLastPromotion_zscore\"]>3) ].shape)\n",
    "\n",
    "#Metodo con STD\n",
    "YearsSinceLastPromotion_UL = log_df.YearsSinceLastPromotion.mean() + 3*log_df.YearsSinceLastPromotion.std()\n",
    "YearsSinceLastPromotion_LL = log_df.YearsSinceLastPromotion.mean() - 3*log_df.YearsSinceLastPromotion.std()\n",
    "print(\"STD: \", log_df[log_df.YearsSinceLastPromotion > YearsSinceLastPromotion_UL].shape)"
   ]
  },
  {
   "cell_type": "code",
   "execution_count": 19,
   "metadata": {},
   "outputs": [
    {
     "name": "stdout",
     "output_type": "stream",
     "text": [
      "Totale outliers dopo una log-transormation\n",
      "IQR:  134\n",
      "ZSCORE:  11\n",
      "STD:  0\n"
     ]
    }
   ],
   "source": [
    "print(\"Totale outliers dopo una log-transormation\")\n",
    "print(\"IQR: \", sum([92,42,0,0,0]))\n",
    "print(\"ZSCORE: \", sum([11,0,0,0,0]))\n",
    "print(\"STD: \", sum([0,0,0,0,0]))"
   ]
  },
  {
   "cell_type": "code",
   "execution_count": null,
   "metadata": {},
   "outputs": [],
   "source": []
  },
  {
   "cell_type": "code",
   "execution_count": null,
   "metadata": {},
   "outputs": [],
   "source": []
  },
  {
   "cell_type": "code",
   "execution_count": null,
   "metadata": {},
   "outputs": [],
   "source": []
  },
  {
   "cell_type": "code",
   "execution_count": null,
   "metadata": {},
   "outputs": [],
   "source": []
  },
  {
   "cell_type": "code",
   "execution_count": null,
   "metadata": {},
   "outputs": [],
   "source": []
  },
  {
   "cell_type": "code",
   "execution_count": null,
   "metadata": {},
   "outputs": [],
   "source": []
  },
  {
   "cell_type": "code",
   "execution_count": null,
   "metadata": {},
   "outputs": [],
   "source": []
  },
  {
   "cell_type": "markdown",
   "metadata": {},
   "source": [
    "# ONE-HOT ENCODER"
   ]
  },
  {
   "cell_type": "code",
   "execution_count": 20,
   "metadata": {
    "scrolled": true
   },
   "outputs": [
    {
     "name": "stderr",
     "output_type": "stream",
     "text": [
      "<ipython-input-20-012a0eb8e53d>:4: SettingWithCopyWarning: \n",
      "A value is trying to be set on a copy of a slice from a DataFrame.\n",
      "Try using .loc[row_indexer,col_indexer] = value instead\n",
      "\n",
      "See the caveats in the documentation: https://pandas.pydata.org/pandas-docs/stable/user_guide/indexing.html#returning-a-view-versus-a-copy\n",
      "  dfle[\"Gender\"] = le.fit_transform(dfle.Gender)\n",
      "<ipython-input-20-012a0eb8e53d>:5: SettingWithCopyWarning: \n",
      "A value is trying to be set on a copy of a slice from a DataFrame.\n",
      "Try using .loc[row_indexer,col_indexer] = value instead\n",
      "\n",
      "See the caveats in the documentation: https://pandas.pydata.org/pandas-docs/stable/user_guide/indexing.html#returning-a-view-versus-a-copy\n",
      "  dfle[\"MaritalStatus\"] = le.fit_transform(dfle.MaritalStatus)\n",
      "<ipython-input-20-012a0eb8e53d>:6: SettingWithCopyWarning: \n",
      "A value is trying to be set on a copy of a slice from a DataFrame.\n",
      "Try using .loc[row_indexer,col_indexer] = value instead\n",
      "\n",
      "See the caveats in the documentation: https://pandas.pydata.org/pandas-docs/stable/user_guide/indexing.html#returning-a-view-versus-a-copy\n",
      "  dfle[\"BusinessTravel\"] = le.fit_transform(dfle.BusinessTravel)\n"
     ]
    },
    {
     "data": {
      "text/html": [
       "<div>\n",
       "<style scoped>\n",
       "    .dataframe tbody tr th:only-of-type {\n",
       "        vertical-align: middle;\n",
       "    }\n",
       "\n",
       "    .dataframe tbody tr th {\n",
       "        vertical-align: top;\n",
       "    }\n",
       "\n",
       "    .dataframe thead th {\n",
       "        text-align: right;\n",
       "    }\n",
       "</style>\n",
       "<table border=\"1\" class=\"dataframe\">\n",
       "  <thead>\n",
       "    <tr style=\"text-align: right;\">\n",
       "      <th></th>\n",
       "      <th>Age</th>\n",
       "      <th>Attrition</th>\n",
       "      <th>BusinessTravel</th>\n",
       "      <th>Department</th>\n",
       "      <th>DistanceFromHome</th>\n",
       "      <th>Education</th>\n",
       "      <th>EducationField</th>\n",
       "      <th>HourlyRate</th>\n",
       "      <th>EnvironmentSatisfaction</th>\n",
       "      <th>Gender</th>\n",
       "      <th>...</th>\n",
       "      <th>TotalWorkingYears</th>\n",
       "      <th>YearsAtCompany</th>\n",
       "      <th>YearsSinceLastPromotion</th>\n",
       "      <th>YearsInCurrentRole</th>\n",
       "      <th>YearsWithCurrManager</th>\n",
       "      <th>TWYears_zscore</th>\n",
       "      <th>YearsAtCompany_zscore</th>\n",
       "      <th>YearsInCurrentRole_zscore</th>\n",
       "      <th>YearsWithCurrManager_zscore</th>\n",
       "      <th>YearsSinceLastPromotion_zscore</th>\n",
       "    </tr>\n",
       "  </thead>\n",
       "  <tbody>\n",
       "    <tr>\n",
       "      <th>0</th>\n",
       "      <td>27.0</td>\n",
       "      <td>Yes</td>\n",
       "      <td>1</td>\n",
       "      <td>Sales</td>\n",
       "      <td>15</td>\n",
       "      <td>2</td>\n",
       "      <td>Medical</td>\n",
       "      <td>59</td>\n",
       "      <td>1</td>\n",
       "      <td>1</td>\n",
       "      <td>...</td>\n",
       "      <td>7</td>\n",
       "      <td>2.0</td>\n",
       "      <td>2</td>\n",
       "      <td>2</td>\n",
       "      <td>2</td>\n",
       "      <td>-0.563330</td>\n",
       "      <td>-0.800946</td>\n",
       "      <td>-0.624962</td>\n",
       "      <td>-0.604525</td>\n",
       "      <td>-0.063256</td>\n",
       "    </tr>\n",
       "    <tr>\n",
       "      <th>1</th>\n",
       "      <td>30.0</td>\n",
       "      <td>Yes</td>\n",
       "      <td>2</td>\n",
       "      <td>Sales</td>\n",
       "      <td>16</td>\n",
       "      <td>4</td>\n",
       "      <td>Marketing</td>\n",
       "      <td>70</td>\n",
       "      <td>1</td>\n",
       "      <td>1</td>\n",
       "      <td>...</td>\n",
       "      <td>10</td>\n",
       "      <td>8.0</td>\n",
       "      <td>0</td>\n",
       "      <td>0</td>\n",
       "      <td>0</td>\n",
       "      <td>-0.176129</td>\n",
       "      <td>0.739024</td>\n",
       "      <td>-1.177748</td>\n",
       "      <td>-1.165773</td>\n",
       "      <td>-0.682655</td>\n",
       "    </tr>\n",
       "    <tr>\n",
       "      <th>2</th>\n",
       "      <td>56.0</td>\n",
       "      <td>No</td>\n",
       "      <td>0</td>\n",
       "      <td>Research &amp; Development</td>\n",
       "      <td>2</td>\n",
       "      <td>4</td>\n",
       "      <td>Technical Degree</td>\n",
       "      <td>60</td>\n",
       "      <td>4</td>\n",
       "      <td>1</td>\n",
       "      <td>...</td>\n",
       "      <td>12</td>\n",
       "      <td>12.0</td>\n",
       "      <td>1</td>\n",
       "      <td>3</td>\n",
       "      <td>4</td>\n",
       "      <td>0.082005</td>\n",
       "      <td>1.765670</td>\n",
       "      <td>-0.348570</td>\n",
       "      <td>-0.043277</td>\n",
       "      <td>-0.372956</td>\n",
       "    </tr>\n",
       "    <tr>\n",
       "      <th>3</th>\n",
       "      <td>41.0</td>\n",
       "      <td>Yes</td>\n",
       "      <td>2</td>\n",
       "      <td>Human Resources</td>\n",
       "      <td>18</td>\n",
       "      <td>5</td>\n",
       "      <td>Human Resources</td>\n",
       "      <td>89</td>\n",
       "      <td>4</td>\n",
       "      <td>1</td>\n",
       "      <td>...</td>\n",
       "      <td>2</td>\n",
       "      <td>2.0</td>\n",
       "      <td>0</td>\n",
       "      <td>0</td>\n",
       "      <td>0</td>\n",
       "      <td>-1.208665</td>\n",
       "      <td>-0.800946</td>\n",
       "      <td>-1.177748</td>\n",
       "      <td>-1.165773</td>\n",
       "      <td>-0.682655</td>\n",
       "    </tr>\n",
       "    <tr>\n",
       "      <th>4</th>\n",
       "      <td>42.0</td>\n",
       "      <td>No</td>\n",
       "      <td>2</td>\n",
       "      <td>Research &amp; Development</td>\n",
       "      <td>1</td>\n",
       "      <td>3</td>\n",
       "      <td>Life Sciences</td>\n",
       "      <td>76</td>\n",
       "      <td>4</td>\n",
       "      <td>1</td>\n",
       "      <td>...</td>\n",
       "      <td>12</td>\n",
       "      <td>5.0</td>\n",
       "      <td>1</td>\n",
       "      <td>3</td>\n",
       "      <td>0</td>\n",
       "      <td>0.082005</td>\n",
       "      <td>-0.030961</td>\n",
       "      <td>-0.348570</td>\n",
       "      <td>-1.165773</td>\n",
       "      <td>-0.372956</td>\n",
       "    </tr>\n",
       "  </tbody>\n",
       "</table>\n",
       "<p>5 rows × 30 columns</p>\n",
       "</div>"
      ],
      "text/plain": [
       "    Age Attrition  BusinessTravel              Department  DistanceFromHome  \\\n",
       "0  27.0       Yes               1                   Sales                15   \n",
       "1  30.0       Yes               2                   Sales                16   \n",
       "2  56.0        No               0  Research & Development                 2   \n",
       "3  41.0       Yes               2         Human Resources                18   \n",
       "4  42.0        No               2  Research & Development                 1   \n",
       "\n",
       "   Education    EducationField  HourlyRate  EnvironmentSatisfaction  Gender  \\\n",
       "0          2           Medical          59                        1       1   \n",
       "1          4         Marketing          70                        1       1   \n",
       "2          4  Technical Degree          60                        4       1   \n",
       "3          5   Human Resources          89                        4       1   \n",
       "4          3     Life Sciences          76                        4       1   \n",
       "\n",
       "   ...  TotalWorkingYears  YearsAtCompany YearsSinceLastPromotion  \\\n",
       "0  ...                  7             2.0                       2   \n",
       "1  ...                 10             8.0                       0   \n",
       "2  ...                 12            12.0                       1   \n",
       "3  ...                  2             2.0                       0   \n",
       "4  ...                 12             5.0                       1   \n",
       "\n",
       "   YearsInCurrentRole  YearsWithCurrManager  TWYears_zscore  \\\n",
       "0                   2                     2       -0.563330   \n",
       "1                   0                     0       -0.176129   \n",
       "2                   3                     4        0.082005   \n",
       "3                   0                     0       -1.208665   \n",
       "4                   3                     0        0.082005   \n",
       "\n",
       "   YearsAtCompany_zscore  YearsInCurrentRole_zscore  \\\n",
       "0              -0.800946                  -0.624962   \n",
       "1               0.739024                  -1.177748   \n",
       "2               1.765670                  -0.348570   \n",
       "3              -0.800946                  -1.177748   \n",
       "4              -0.030961                  -0.348570   \n",
       "\n",
       "   YearsWithCurrManager_zscore  YearsSinceLastPromotion_zscore  \n",
       "0                    -0.604525                       -0.063256  \n",
       "1                    -1.165773                       -0.682655  \n",
       "2                    -0.043277                       -0.372956  \n",
       "3                    -1.165773                       -0.682655  \n",
       "4                    -1.165773                       -0.372956  \n",
       "\n",
       "[5 rows x 30 columns]"
      ]
     },
     "execution_count": 20,
     "metadata": {},
     "output_type": "execute_result"
    }
   ],
   "source": [
    "le = LabelEncoder()\n",
    "\n",
    "dfle = df\n",
    "dfle[\"Gender\"] = le.fit_transform(dfle.Gender)\n",
    "dfle[\"MaritalStatus\"] = le.fit_transform(dfle.MaritalStatus)\n",
    "dfle[\"BusinessTravel\"] = le.fit_transform(dfle.BusinessTravel)\n",
    "\n",
    "dfle.head()"
   ]
  },
  {
   "cell_type": "code",
   "execution_count": null,
   "metadata": {},
   "outputs": [],
   "source": []
  },
  {
   "cell_type": "code",
   "execution_count": 21,
   "metadata": {},
   "outputs": [
    {
     "name": "stderr",
     "output_type": "stream",
     "text": [
      "<ipython-input-21-5be67f6d6dc4>:7: SettingWithCopyWarning: \n",
      "A value is trying to be set on a copy of a slice from a DataFrame.\n",
      "Try using .loc[row_indexer,col_indexer] = value instead\n",
      "\n",
      "See the caveats in the documentation: https://pandas.pydata.org/pandas-docs/stable/user_guide/indexing.html#returning-a-view-versus-a-copy\n",
      "  df[\"DistanceFromHome\"] = pd.cut(df[\"DistanceFromHome\"], bins, labels=group_names)\n"
     ]
    },
    {
     "data": {
      "text/html": [
       "<div>\n",
       "<style scoped>\n",
       "    .dataframe tbody tr th:only-of-type {\n",
       "        vertical-align: middle;\n",
       "    }\n",
       "\n",
       "    .dataframe tbody tr th {\n",
       "        vertical-align: top;\n",
       "    }\n",
       "\n",
       "    .dataframe thead th {\n",
       "        text-align: right;\n",
       "    }\n",
       "</style>\n",
       "<table border=\"1\" class=\"dataframe\">\n",
       "  <thead>\n",
       "    <tr style=\"text-align: right;\">\n",
       "      <th></th>\n",
       "      <th>Age</th>\n",
       "      <th>Attrition</th>\n",
       "      <th>BusinessTravel</th>\n",
       "      <th>Department</th>\n",
       "      <th>DistanceFromHome</th>\n",
       "      <th>Education</th>\n",
       "      <th>EducationField</th>\n",
       "      <th>HourlyRate</th>\n",
       "      <th>EnvironmentSatisfaction</th>\n",
       "      <th>Gender</th>\n",
       "      <th>...</th>\n",
       "      <th>TotalWorkingYears</th>\n",
       "      <th>YearsAtCompany</th>\n",
       "      <th>YearsSinceLastPromotion</th>\n",
       "      <th>YearsInCurrentRole</th>\n",
       "      <th>YearsWithCurrManager</th>\n",
       "      <th>TWYears_zscore</th>\n",
       "      <th>YearsAtCompany_zscore</th>\n",
       "      <th>YearsInCurrentRole_zscore</th>\n",
       "      <th>YearsWithCurrManager_zscore</th>\n",
       "      <th>YearsSinceLastPromotion_zscore</th>\n",
       "    </tr>\n",
       "  </thead>\n",
       "  <tbody>\n",
       "    <tr>\n",
       "      <th>0</th>\n",
       "      <td>27.0</td>\n",
       "      <td>Yes</td>\n",
       "      <td>1</td>\n",
       "      <td>Sales</td>\n",
       "      <td>Far</td>\n",
       "      <td>2</td>\n",
       "      <td>Medical</td>\n",
       "      <td>59</td>\n",
       "      <td>1</td>\n",
       "      <td>1</td>\n",
       "      <td>...</td>\n",
       "      <td>7</td>\n",
       "      <td>2.0</td>\n",
       "      <td>2</td>\n",
       "      <td>2</td>\n",
       "      <td>2</td>\n",
       "      <td>-0.563330</td>\n",
       "      <td>-0.800946</td>\n",
       "      <td>-0.624962</td>\n",
       "      <td>-0.604525</td>\n",
       "      <td>-0.063256</td>\n",
       "    </tr>\n",
       "    <tr>\n",
       "      <th>1</th>\n",
       "      <td>30.0</td>\n",
       "      <td>Yes</td>\n",
       "      <td>2</td>\n",
       "      <td>Sales</td>\n",
       "      <td>Far</td>\n",
       "      <td>4</td>\n",
       "      <td>Marketing</td>\n",
       "      <td>70</td>\n",
       "      <td>1</td>\n",
       "      <td>1</td>\n",
       "      <td>...</td>\n",
       "      <td>10</td>\n",
       "      <td>8.0</td>\n",
       "      <td>0</td>\n",
       "      <td>0</td>\n",
       "      <td>0</td>\n",
       "      <td>-0.176129</td>\n",
       "      <td>0.739024</td>\n",
       "      <td>-1.177748</td>\n",
       "      <td>-1.165773</td>\n",
       "      <td>-0.682655</td>\n",
       "    </tr>\n",
       "    <tr>\n",
       "      <th>2</th>\n",
       "      <td>56.0</td>\n",
       "      <td>No</td>\n",
       "      <td>0</td>\n",
       "      <td>Research &amp; Development</td>\n",
       "      <td>Near</td>\n",
       "      <td>4</td>\n",
       "      <td>Technical Degree</td>\n",
       "      <td>60</td>\n",
       "      <td>4</td>\n",
       "      <td>1</td>\n",
       "      <td>...</td>\n",
       "      <td>12</td>\n",
       "      <td>12.0</td>\n",
       "      <td>1</td>\n",
       "      <td>3</td>\n",
       "      <td>4</td>\n",
       "      <td>0.082005</td>\n",
       "      <td>1.765670</td>\n",
       "      <td>-0.348570</td>\n",
       "      <td>-0.043277</td>\n",
       "      <td>-0.372956</td>\n",
       "    </tr>\n",
       "    <tr>\n",
       "      <th>3</th>\n",
       "      <td>41.0</td>\n",
       "      <td>Yes</td>\n",
       "      <td>2</td>\n",
       "      <td>Human Resources</td>\n",
       "      <td>Far</td>\n",
       "      <td>5</td>\n",
       "      <td>Human Resources</td>\n",
       "      <td>89</td>\n",
       "      <td>4</td>\n",
       "      <td>1</td>\n",
       "      <td>...</td>\n",
       "      <td>2</td>\n",
       "      <td>2.0</td>\n",
       "      <td>0</td>\n",
       "      <td>0</td>\n",
       "      <td>0</td>\n",
       "      <td>-1.208665</td>\n",
       "      <td>-0.800946</td>\n",
       "      <td>-1.177748</td>\n",
       "      <td>-1.165773</td>\n",
       "      <td>-0.682655</td>\n",
       "    </tr>\n",
       "    <tr>\n",
       "      <th>4</th>\n",
       "      <td>42.0</td>\n",
       "      <td>No</td>\n",
       "      <td>2</td>\n",
       "      <td>Research &amp; Development</td>\n",
       "      <td>Near</td>\n",
       "      <td>3</td>\n",
       "      <td>Life Sciences</td>\n",
       "      <td>76</td>\n",
       "      <td>4</td>\n",
       "      <td>1</td>\n",
       "      <td>...</td>\n",
       "      <td>12</td>\n",
       "      <td>5.0</td>\n",
       "      <td>1</td>\n",
       "      <td>3</td>\n",
       "      <td>0</td>\n",
       "      <td>0.082005</td>\n",
       "      <td>-0.030961</td>\n",
       "      <td>-0.348570</td>\n",
       "      <td>-1.165773</td>\n",
       "      <td>-0.372956</td>\n",
       "    </tr>\n",
       "  </tbody>\n",
       "</table>\n",
       "<p>5 rows × 30 columns</p>\n",
       "</div>"
      ],
      "text/plain": [
       "    Age Attrition  BusinessTravel              Department DistanceFromHome  \\\n",
       "0  27.0       Yes               1                   Sales              Far   \n",
       "1  30.0       Yes               2                   Sales              Far   \n",
       "2  56.0        No               0  Research & Development             Near   \n",
       "3  41.0       Yes               2         Human Resources              Far   \n",
       "4  42.0        No               2  Research & Development             Near   \n",
       "\n",
       "   Education    EducationField  HourlyRate  EnvironmentSatisfaction  Gender  \\\n",
       "0          2           Medical          59                        1       1   \n",
       "1          4         Marketing          70                        1       1   \n",
       "2          4  Technical Degree          60                        4       1   \n",
       "3          5   Human Resources          89                        4       1   \n",
       "4          3     Life Sciences          76                        4       1   \n",
       "\n",
       "   ...  TotalWorkingYears  YearsAtCompany YearsSinceLastPromotion  \\\n",
       "0  ...                  7             2.0                       2   \n",
       "1  ...                 10             8.0                       0   \n",
       "2  ...                 12            12.0                       1   \n",
       "3  ...                  2             2.0                       0   \n",
       "4  ...                 12             5.0                       1   \n",
       "\n",
       "   YearsInCurrentRole  YearsWithCurrManager  TWYears_zscore  \\\n",
       "0                   2                     2       -0.563330   \n",
       "1                   0                     0       -0.176129   \n",
       "2                   3                     4        0.082005   \n",
       "3                   0                     0       -1.208665   \n",
       "4                   3                     0        0.082005   \n",
       "\n",
       "   YearsAtCompany_zscore  YearsInCurrentRole_zscore  \\\n",
       "0              -0.800946                  -0.624962   \n",
       "1               0.739024                  -1.177748   \n",
       "2               1.765670                  -0.348570   \n",
       "3              -0.800946                  -1.177748   \n",
       "4              -0.030961                  -0.348570   \n",
       "\n",
       "   YearsWithCurrManager_zscore  YearsSinceLastPromotion_zscore  \n",
       "0                    -0.604525                       -0.063256  \n",
       "1                    -1.165773                       -0.682655  \n",
       "2                    -0.043277                       -0.372956  \n",
       "3                    -1.165773                       -0.682655  \n",
       "4                    -1.165773                       -0.372956  \n",
       "\n",
       "[5 rows x 30 columns]"
      ]
     },
     "execution_count": 21,
     "metadata": {},
     "output_type": "execute_result"
    }
   ],
   "source": [
    "#transform numerical in categorical (BINNING)\n",
    "bins=[0, 10, 20, 30]\n",
    "\n",
    "#names for the groups\n",
    "group_names = [\"Near\", \"Far\", \"Very far\"]\n",
    "\n",
    "df[\"DistanceFromHome\"] = pd.cut(df[\"DistanceFromHome\"], bins, labels=group_names)\n",
    "df.head()"
   ]
  },
  {
   "cell_type": "code",
   "execution_count": null,
   "metadata": {},
   "outputs": [],
   "source": []
  },
  {
   "cell_type": "markdown",
   "metadata": {},
   "source": [
    "# KMEANS CLUSTERING"
   ]
  },
  {
   "cell_type": "code",
   "execution_count": 22,
   "metadata": {
    "scrolled": true
   },
   "outputs": [
    {
     "data": {
      "text/html": [
       "<div>\n",
       "<style scoped>\n",
       "    .dataframe tbody tr th:only-of-type {\n",
       "        vertical-align: middle;\n",
       "    }\n",
       "\n",
       "    .dataframe tbody tr th {\n",
       "        vertical-align: top;\n",
       "    }\n",
       "\n",
       "    .dataframe thead th {\n",
       "        text-align: right;\n",
       "    }\n",
       "</style>\n",
       "<table border=\"1\" class=\"dataframe\">\n",
       "  <thead>\n",
       "    <tr style=\"text-align: right;\">\n",
       "      <th></th>\n",
       "      <th>Age</th>\n",
       "      <th>MonthlyIncome</th>\n",
       "      <th>HourlyRate</th>\n",
       "    </tr>\n",
       "  </thead>\n",
       "  <tbody>\n",
       "    <tr>\n",
       "      <th>0</th>\n",
       "      <td>27.0</td>\n",
       "      <td>4298.0</td>\n",
       "      <td>59</td>\n",
       "    </tr>\n",
       "    <tr>\n",
       "      <th>1</th>\n",
       "      <td>30.0</td>\n",
       "      <td>5304.0</td>\n",
       "      <td>70</td>\n",
       "    </tr>\n",
       "    <tr>\n",
       "      <th>2</th>\n",
       "      <td>56.0</td>\n",
       "      <td>6306.0</td>\n",
       "      <td>60</td>\n",
       "    </tr>\n",
       "    <tr>\n",
       "      <th>3</th>\n",
       "      <td>41.0</td>\n",
       "      <td>6430.0</td>\n",
       "      <td>89</td>\n",
       "    </tr>\n",
       "    <tr>\n",
       "      <th>4</th>\n",
       "      <td>42.0</td>\n",
       "      <td>2766.0</td>\n",
       "      <td>76</td>\n",
       "    </tr>\n",
       "  </tbody>\n",
       "</table>\n",
       "</div>"
      ],
      "text/plain": [
       "    Age  MonthlyIncome  HourlyRate\n",
       "0  27.0         4298.0          59\n",
       "1  30.0         5304.0          70\n",
       "2  56.0         6306.0          60\n",
       "3  41.0         6430.0          89\n",
       "4  42.0         2766.0          76"
      ]
     },
     "execution_count": 22,
     "metadata": {},
     "output_type": "execute_result"
    }
   ],
   "source": [
    "clustering = df[[\"Age\", \"MonthlyIncome\", \"HourlyRate\"]]\n",
    "clustering.head()"
   ]
  },
  {
   "cell_type": "code",
   "execution_count": null,
   "metadata": {},
   "outputs": [],
   "source": []
  },
  {
   "cell_type": "code",
   "execution_count": 23,
   "metadata": {},
   "outputs": [],
   "source": [
    "scaler = RobustScaler()\n",
    "\n",
    "X = scaler.fit_transform(clustering.values)"
   ]
  },
  {
   "cell_type": "code",
   "execution_count": 24,
   "metadata": {},
   "outputs": [
    {
     "data": {
      "text/plain": [
       "array([[-0.9195693 , -0.17168356, -0.19444444],\n",
       "       [-0.64684203,  0.13265769,  0.11111111],\n",
       "       [ 1.71679433,  0.43578884, -0.16666667],\n",
       "       ...,\n",
       "       [ 0.0804307 ,  0.14445621,  0.66666667],\n",
       "       [-0.01047839, -0.83209802,  0.83333333],\n",
       "       [-0.37411476,  0.0851611 ,  0.27777778]])"
      ]
     },
     "execution_count": 24,
     "metadata": {},
     "output_type": "execute_result"
    }
   ],
   "source": [
    "scaler.transform(clustering.values)"
   ]
  },
  {
   "cell_type": "code",
   "execution_count": 25,
   "metadata": {
    "scrolled": true
   },
   "outputs": [
    {
     "data": {
      "image/png": "[encoded data removed]",
      "text/plain": [
       "<Figure size 432x288 with 1 Axes>"
      ]
     },
     "metadata": {
      "needs_background": "light"
     },
     "output_type": "display_data"
    }
   ],
   "source": [
    "plt.scatter(X[:,0], X[:,1])\n",
    "plt.xlabel(\"Age\")\n",
    "plt.ylabel(\"MonthlyIncome\")\n",
    "plt.show()"
   ]
  },
  {
   "cell_type": "code",
   "execution_count": 26,
   "metadata": {},
   "outputs": [
    {
     "data": {
      "text/plain": [
       "KMeans(max_iter=100, n_clusters=3, random_state=0)"
      ]
     },
     "execution_count": 26,
     "metadata": {},
     "output_type": "execute_result"
    }
   ],
   "source": [
    "kmeans = KMeans(n_clusters=3, n_init=10, max_iter=100, random_state=0)\n",
    "kmeans.fit(X)"
   ]
  },
  {
   "cell_type": "code",
   "execution_count": 27,
   "metadata": {},
   "outputs": [
    {
     "data": {
      "text/plain": [
       "array([0, 0, 2, ..., 0, 0, 0])"
      ]
     },
     "execution_count": 27,
     "metadata": {},
     "output_type": "execute_result"
    }
   ],
   "source": [
    "y_predicted = kmeans.fit_predict(X[:,[0, 1, 2]])\n",
    "y_predicted\n"
   ]
  },
  {
   "cell_type": "code",
   "execution_count": 28,
   "metadata": {},
   "outputs": [
    {
     "name": "stderr",
     "output_type": "stream",
     "text": [
      "<ipython-input-28-a38ea8b15346>:1: SettingWithCopyWarning: \n",
      "A value is trying to be set on a copy of a slice from a DataFrame.\n",
      "Try using .loc[row_indexer,col_indexer] = value instead\n",
      "\n",
      "See the caveats in the documentation: https://pandas.pydata.org/pandas-docs/stable/user_guide/indexing.html#returning-a-view-versus-a-copy\n",
      "  clustering['Cluster']=y_predicted\n",
      "<ipython-input-28-a38ea8b15346>:2: SettingWithCopyWarning: \n",
      "A value is trying to be set on a copy of a slice from a DataFrame.\n",
      "Try using .loc[row_indexer,col_indexer] = value instead\n",
      "\n",
      "See the caveats in the documentation: https://pandas.pydata.org/pandas-docs/stable/user_guide/indexing.html#returning-a-view-versus-a-copy\n",
      "  df['Cluster']=y_predicted\n"
     ]
    },
    {
     "data": {
      "text/html": [
       "<div>\n",
       "<style scoped>\n",
       "    .dataframe tbody tr th:only-of-type {\n",
       "        vertical-align: middle;\n",
       "    }\n",
       "\n",
       "    .dataframe tbody tr th {\n",
       "        vertical-align: top;\n",
       "    }\n",
       "\n",
       "    .dataframe thead th {\n",
       "        text-align: right;\n",
       "    }\n",
       "</style>\n",
       "<table border=\"1\" class=\"dataframe\">\n",
       "  <thead>\n",
       "    <tr style=\"text-align: right;\">\n",
       "      <th></th>\n",
       "      <th>Age</th>\n",
       "      <th>MonthlyIncome</th>\n",
       "      <th>HourlyRate</th>\n",
       "      <th>Cluster</th>\n",
       "    </tr>\n",
       "  </thead>\n",
       "  <tbody>\n",
       "    <tr>\n",
       "      <th>0</th>\n",
       "      <td>27.0</td>\n",
       "      <td>4298.0</td>\n",
       "      <td>59</td>\n",
       "      <td>0</td>\n",
       "    </tr>\n",
       "    <tr>\n",
       "      <th>1</th>\n",
       "      <td>30.0</td>\n",
       "      <td>5304.0</td>\n",
       "      <td>70</td>\n",
       "      <td>0</td>\n",
       "    </tr>\n",
       "    <tr>\n",
       "      <th>2</th>\n",
       "      <td>56.0</td>\n",
       "      <td>6306.0</td>\n",
       "      <td>60</td>\n",
       "      <td>2</td>\n",
       "    </tr>\n",
       "    <tr>\n",
       "      <th>3</th>\n",
       "      <td>41.0</td>\n",
       "      <td>6430.0</td>\n",
       "      <td>89</td>\n",
       "      <td>2</td>\n",
       "    </tr>\n",
       "    <tr>\n",
       "      <th>4</th>\n",
       "      <td>42.0</td>\n",
       "      <td>2766.0</td>\n",
       "      <td>76</td>\n",
       "      <td>0</td>\n",
       "    </tr>\n",
       "  </tbody>\n",
       "</table>\n",
       "</div>"
      ],
      "text/plain": [
       "    Age  MonthlyIncome  HourlyRate  Cluster\n",
       "0  27.0         4298.0          59        0\n",
       "1  30.0         5304.0          70        0\n",
       "2  56.0         6306.0          60        2\n",
       "3  41.0         6430.0          89        2\n",
       "4  42.0         2766.0          76        0"
      ]
     },
     "execution_count": 28,
     "metadata": {},
     "output_type": "execute_result"
    }
   ],
   "source": [
    "clustering['Cluster']=y_predicted\n",
    "df['Cluster']=y_predicted\n",
    "\n",
    "clustering.head()"
   ]
  },
  {
   "cell_type": "code",
   "execution_count": 29,
   "metadata": {},
   "outputs": [
    {
     "data": {
      "text/plain": [
       "(array([0, 1, 2]), array([846, 167, 446], dtype=int64))"
      ]
     },
     "execution_count": 29,
     "metadata": {},
     "output_type": "execute_result"
    }
   ],
   "source": [
    "np.unique(kmeans.labels_, return_counts=True)"
   ]
  },
  {
   "cell_type": "code",
   "execution_count": 30,
   "metadata": {},
   "outputs": [
    {
     "data": {
      "text/plain": [
       "array([[-0.43051017, -0.27866185,  0.01097353],\n",
       "       [ 0.79449109,  3.48726628, -0.01214238],\n",
       "       [ 0.52095744,  0.60117965, -0.02733984]])"
      ]
     },
     "execution_count": 30,
     "metadata": {},
     "output_type": "execute_result"
    }
   ],
   "source": [
    "kmeans.cluster_centers_"
   ]
  },
  {
   "cell_type": "code",
   "execution_count": 31,
   "metadata": {},
   "outputs": [],
   "source": [
    "centers = np.array(kmeans.cluster_centers_)\n",
    "centers = scaler.inverse_transform(kmeans.cluster_centers_)"
   ]
  },
  {
   "cell_type": "code",
   "execution_count": 47,
   "metadata": {
    "scrolled": true
   },
   "outputs": [
    {
     "data": {
      "image/png": "[encoded data removed]",
      "text/plain": [
       "<Figure size 432x288 with 1 Axes>"
      ]
     },
     "metadata": {
      "needs_background": "light"
     },
     "output_type": "display_data"
    }
   ],
   "source": [
    "df0 = clustering[clustering.Cluster==0]\n",
    "df1 = clustering[clustering.Cluster==1]\n",
    "df2 = clustering[clustering.Cluster==2]\n",
    "\n",
    "plt.scatter(df0.Age, df0.MonthlyIncome, color='#e6ff33', label=\"Cluster 0\")\n",
    "plt.scatter(df1.Age, df1.MonthlyIncome, color='#ff5733', label=\"Cluster 1\")\n",
    "plt.scatter(df2.Age, df2.MonthlyIncome, color='#33ffdd', label=\"Cluster 2\")\n",
    "\n",
    "plt.scatter(centers[:,0], centers[:,1], color='black', marker='x', label='centroid')\n",
    "\n",
    "plt.xlabel(\"Age\")\n",
    "plt.ylabel(\"MonthlyIncome\")\n",
    "\n",
    "plt.legend()\n",
    "plt.show()"
   ]
  },
  {
   "cell_type": "code",
   "execution_count": 33,
   "metadata": {},
   "outputs": [
    {
     "data": {
      "text/plain": [
       "(array([0, 1, 2]), array([846, 167, 446], dtype=int64))"
      ]
     },
     "execution_count": 33,
     "metadata": {},
     "output_type": "execute_result"
    }
   ],
   "source": [
    "np.unique(kmeans.labels_, return_counts=True)"
   ]
  },
  {
   "cell_type": "code",
   "execution_count": 34,
   "metadata": {},
   "outputs": [
    {
     "data": {
      "image/png": "[encoded data removed]",
      "text/plain": [
       "<Figure size 432x288 with 1 Axes>"
      ]
     },
     "metadata": {
      "needs_background": "light"
     },
     "output_type": "display_data"
    }
   ],
   "source": [
    "sse = []\n",
    "k_rng = range(1,20)\n",
    "for k in k_rng:\n",
    "    kmeans = KMeans(n_clusters=k)\n",
    "    kmeans.fit(X)\n",
    "    sse.append(kmeans.inertia_)\n",
    "    \n",
    "plt.xlabel('Number of clusters (k)')\n",
    "plt.ylabel('SSE')\n",
    "plt.plot(k_rng,sse)\n",
    "\n",
    "plt.show()"
   ]
  },
  {
   "cell_type": "code",
   "execution_count": 35,
   "metadata": {
    "scrolled": false
   },
   "outputs": [
    {
     "name": "stdout",
     "output_type": "stream",
     "text": [
      "SSE:  355.90491526919806\n",
      "Silhouette:  0.2790820359653782\n"
     ]
    }
   ],
   "source": [
    "print('SSE: ', kmeans.inertia_) #inertia tells how far away the points within a cluster are\n",
    "print('Silhouette: ', silhouette_score(X, kmeans.labels_))"
   ]
  },
  {
   "cell_type": "code",
   "execution_count": null,
   "metadata": {},
   "outputs": [],
   "source": []
  },
  {
   "cell_type": "code",
   "execution_count": null,
   "metadata": {},
   "outputs": [],
   "source": []
  },
  {
   "cell_type": "code",
   "execution_count": 36,
   "metadata": {
    "scrolled": true
   },
   "outputs": [
    {
     "data": {
      "text/html": [
       "<div>\n",
       "<style scoped>\n",
       "    .dataframe tbody tr th:only-of-type {\n",
       "        vertical-align: middle;\n",
       "    }\n",
       "\n",
       "    .dataframe tbody tr th {\n",
       "        vertical-align: top;\n",
       "    }\n",
       "\n",
       "    .dataframe thead th {\n",
       "        text-align: right;\n",
       "    }\n",
       "</style>\n",
       "<table border=\"1\" class=\"dataframe\">\n",
       "  <thead>\n",
       "    <tr style=\"text-align: right;\">\n",
       "      <th></th>\n",
       "      <th>Age</th>\n",
       "      <th>Attrition</th>\n",
       "      <th>BusinessTravel</th>\n",
       "      <th>Department</th>\n",
       "      <th>DistanceFromHome</th>\n",
       "      <th>Education</th>\n",
       "      <th>EducationField</th>\n",
       "      <th>HourlyRate</th>\n",
       "      <th>EnvironmentSatisfaction</th>\n",
       "      <th>Gender</th>\n",
       "      <th>...</th>\n",
       "      <th>YearsAtCompany</th>\n",
       "      <th>YearsSinceLastPromotion</th>\n",
       "      <th>YearsInCurrentRole</th>\n",
       "      <th>YearsWithCurrManager</th>\n",
       "      <th>TWYears_zscore</th>\n",
       "      <th>YearsAtCompany_zscore</th>\n",
       "      <th>YearsInCurrentRole_zscore</th>\n",
       "      <th>YearsWithCurrManager_zscore</th>\n",
       "      <th>YearsSinceLastPromotion_zscore</th>\n",
       "      <th>Cluster</th>\n",
       "    </tr>\n",
       "  </thead>\n",
       "  <tbody>\n",
       "    <tr>\n",
       "      <th>0</th>\n",
       "      <td>27.0</td>\n",
       "      <td>Yes</td>\n",
       "      <td>1</td>\n",
       "      <td>Sales</td>\n",
       "      <td>Far</td>\n",
       "      <td>2</td>\n",
       "      <td>Medical</td>\n",
       "      <td>59</td>\n",
       "      <td>1</td>\n",
       "      <td>1</td>\n",
       "      <td>...</td>\n",
       "      <td>2.0</td>\n",
       "      <td>2</td>\n",
       "      <td>2</td>\n",
       "      <td>2</td>\n",
       "      <td>-0.563330</td>\n",
       "      <td>-0.800946</td>\n",
       "      <td>-0.624962</td>\n",
       "      <td>-0.604525</td>\n",
       "      <td>-0.063256</td>\n",
       "      <td>0</td>\n",
       "    </tr>\n",
       "    <tr>\n",
       "      <th>1</th>\n",
       "      <td>30.0</td>\n",
       "      <td>Yes</td>\n",
       "      <td>2</td>\n",
       "      <td>Sales</td>\n",
       "      <td>Far</td>\n",
       "      <td>4</td>\n",
       "      <td>Marketing</td>\n",
       "      <td>70</td>\n",
       "      <td>1</td>\n",
       "      <td>1</td>\n",
       "      <td>...</td>\n",
       "      <td>8.0</td>\n",
       "      <td>0</td>\n",
       "      <td>0</td>\n",
       "      <td>0</td>\n",
       "      <td>-0.176129</td>\n",
       "      <td>0.739024</td>\n",
       "      <td>-1.177748</td>\n",
       "      <td>-1.165773</td>\n",
       "      <td>-0.682655</td>\n",
       "      <td>0</td>\n",
       "    </tr>\n",
       "    <tr>\n",
       "      <th>2</th>\n",
       "      <td>56.0</td>\n",
       "      <td>No</td>\n",
       "      <td>0</td>\n",
       "      <td>Research &amp; Development</td>\n",
       "      <td>Near</td>\n",
       "      <td>4</td>\n",
       "      <td>Technical Degree</td>\n",
       "      <td>60</td>\n",
       "      <td>4</td>\n",
       "      <td>1</td>\n",
       "      <td>...</td>\n",
       "      <td>12.0</td>\n",
       "      <td>1</td>\n",
       "      <td>3</td>\n",
       "      <td>4</td>\n",
       "      <td>0.082005</td>\n",
       "      <td>1.765670</td>\n",
       "      <td>-0.348570</td>\n",
       "      <td>-0.043277</td>\n",
       "      <td>-0.372956</td>\n",
       "      <td>2</td>\n",
       "    </tr>\n",
       "    <tr>\n",
       "      <th>3</th>\n",
       "      <td>41.0</td>\n",
       "      <td>Yes</td>\n",
       "      <td>2</td>\n",
       "      <td>Human Resources</td>\n",
       "      <td>Far</td>\n",
       "      <td>5</td>\n",
       "      <td>Human Resources</td>\n",
       "      <td>89</td>\n",
       "      <td>4</td>\n",
       "      <td>1</td>\n",
       "      <td>...</td>\n",
       "      <td>2.0</td>\n",
       "      <td>0</td>\n",
       "      <td>0</td>\n",
       "      <td>0</td>\n",
       "      <td>-1.208665</td>\n",
       "      <td>-0.800946</td>\n",
       "      <td>-1.177748</td>\n",
       "      <td>-1.165773</td>\n",
       "      <td>-0.682655</td>\n",
       "      <td>2</td>\n",
       "    </tr>\n",
       "    <tr>\n",
       "      <th>4</th>\n",
       "      <td>42.0</td>\n",
       "      <td>No</td>\n",
       "      <td>2</td>\n",
       "      <td>Research &amp; Development</td>\n",
       "      <td>Near</td>\n",
       "      <td>3</td>\n",
       "      <td>Life Sciences</td>\n",
       "      <td>76</td>\n",
       "      <td>4</td>\n",
       "      <td>1</td>\n",
       "      <td>...</td>\n",
       "      <td>5.0</td>\n",
       "      <td>1</td>\n",
       "      <td>3</td>\n",
       "      <td>0</td>\n",
       "      <td>0.082005</td>\n",
       "      <td>-0.030961</td>\n",
       "      <td>-0.348570</td>\n",
       "      <td>-1.165773</td>\n",
       "      <td>-0.372956</td>\n",
       "      <td>0</td>\n",
       "    </tr>\n",
       "  </tbody>\n",
       "</table>\n",
       "<p>5 rows × 31 columns</p>\n",
       "</div>"
      ],
      "text/plain": [
       "    Age Attrition  BusinessTravel              Department DistanceFromHome  \\\n",
       "0  27.0       Yes               1                   Sales              Far   \n",
       "1  30.0       Yes               2                   Sales              Far   \n",
       "2  56.0        No               0  Research & Development             Near   \n",
       "3  41.0       Yes               2         Human Resources              Far   \n",
       "4  42.0        No               2  Research & Development             Near   \n",
       "\n",
       "   Education    EducationField  HourlyRate  EnvironmentSatisfaction  Gender  \\\n",
       "0          2           Medical          59                        1       1   \n",
       "1          4         Marketing          70                        1       1   \n",
       "2          4  Technical Degree          60                        4       1   \n",
       "3          5   Human Resources          89                        4       1   \n",
       "4          3     Life Sciences          76                        4       1   \n",
       "\n",
       "   ...  YearsAtCompany  YearsSinceLastPromotion YearsInCurrentRole  \\\n",
       "0  ...             2.0                        2                  2   \n",
       "1  ...             8.0                        0                  0   \n",
       "2  ...            12.0                        1                  3   \n",
       "3  ...             2.0                        0                  0   \n",
       "4  ...             5.0                        1                  3   \n",
       "\n",
       "   YearsWithCurrManager  TWYears_zscore  YearsAtCompany_zscore  \\\n",
       "0                     2       -0.563330              -0.800946   \n",
       "1                     0       -0.176129               0.739024   \n",
       "2                     4        0.082005               1.765670   \n",
       "3                     0       -1.208665              -0.800946   \n",
       "4                     0        0.082005              -0.030961   \n",
       "\n",
       "   YearsInCurrentRole_zscore  YearsWithCurrManager_zscore  \\\n",
       "0                  -0.624962                    -0.604525   \n",
       "1                  -1.177748                    -1.165773   \n",
       "2                  -0.348570                    -0.043277   \n",
       "3                  -1.177748                    -1.165773   \n",
       "4                  -0.348570                    -1.165773   \n",
       "\n",
       "   YearsSinceLastPromotion_zscore  Cluster  \n",
       "0                       -0.063256        0  \n",
       "1                       -0.682655        0  \n",
       "2                       -0.372956        2  \n",
       "3                       -0.682655        2  \n",
       "4                       -0.372956        0  \n",
       "\n",
       "[5 rows x 31 columns]"
      ]
     },
     "execution_count": 36,
     "metadata": {},
     "output_type": "execute_result"
    }
   ],
   "source": [
    "df.head()"
   ]
  },
  {
   "cell_type": "code",
   "execution_count": null,
   "metadata": {},
   "outputs": [],
   "source": []
  },
  {
   "cell_type": "code",
   "execution_count": 37,
   "metadata": {},
   "outputs": [],
   "source": [
    "df0 = df[df.Cluster == 0]\n",
    "df1 = df[df.Cluster == 1]\n",
    "df2 = df[df.Cluster == 2]"
   ]
  },
  {
   "cell_type": "code",
   "execution_count": 38,
   "metadata": {},
   "outputs": [
    {
     "data": {
      "text/plain": [
       "No     84.87\n",
       "Yes    15.13\n",
       "Name: Attrition, dtype: float64"
      ]
     },
     "execution_count": 38,
     "metadata": {},
     "output_type": "execute_result"
    }
   ],
   "source": [
    "round((df0[\"Attrition\"].value_counts()/len(df0))*100, 2)"
   ]
  },
  {
   "cell_type": "code",
   "execution_count": 39,
   "metadata": {},
   "outputs": [
    {
     "data": {
      "text/plain": [
       "No     86.83\n",
       "Yes    13.17\n",
       "Name: Attrition, dtype: float64"
      ]
     },
     "execution_count": 39,
     "metadata": {},
     "output_type": "execute_result"
    }
   ],
   "source": [
    "round((df1[\"Attrition\"].value_counts()/len(df1))*100, 2)"
   ]
  },
  {
   "cell_type": "code",
   "execution_count": 40,
   "metadata": {},
   "outputs": [
    {
     "data": {
      "text/plain": [
       "No     81.61\n",
       "Yes    18.39\n",
       "Name: Attrition, dtype: float64"
      ]
     },
     "execution_count": 40,
     "metadata": {},
     "output_type": "execute_result"
    }
   ],
   "source": [
    "round((df2[\"Attrition\"].value_counts()/len(df2))*100, 2)"
   ]
  },
  {
   "cell_type": "code",
   "execution_count": null,
   "metadata": {},
   "outputs": [],
   "source": []
  },
  {
   "cell_type": "code",
   "execution_count": null,
   "metadata": {},
   "outputs": [],
   "source": []
  },
  {
   "cell_type": "code",
   "execution_count": 41,
   "metadata": {},
   "outputs": [
    {
     "data": {
      "text/plain": [
       "Research & Development    64.07\n",
       "Sales                     32.27\n",
       "Human Resources            3.66\n",
       "Name: Department, dtype: float64"
      ]
     },
     "execution_count": 41,
     "metadata": {},
     "output_type": "execute_result"
    }
   ],
   "source": [
    "round((df0[\"Department\"].value_counts()/len(df0))*100, 2)"
   ]
  },
  {
   "cell_type": "code",
   "execution_count": 42,
   "metadata": {},
   "outputs": [
    {
     "data": {
      "text/plain": [
       "Research & Development    71.86\n",
       "Sales                     23.35\n",
       "Human Resources            4.79\n",
       "Name: Department, dtype: float64"
      ]
     },
     "execution_count": 42,
     "metadata": {},
     "output_type": "execute_result"
    }
   ],
   "source": [
    "round((df1[\"Department\"].value_counts()/len(df1))*100, 2)"
   ]
  },
  {
   "cell_type": "code",
   "execution_count": 43,
   "metadata": {},
   "outputs": [
    {
     "data": {
      "text/plain": [
       "Research & Development    65.47\n",
       "Sales                     29.15\n",
       "Human Resources            5.38\n",
       "Name: Department, dtype: float64"
      ]
     },
     "execution_count": 43,
     "metadata": {},
     "output_type": "execute_result"
    }
   ],
   "source": [
    "round((df2[\"Department\"].value_counts()/len(df2))*100, 2)"
   ]
  },
  {
   "cell_type": "code",
   "execution_count": null,
   "metadata": {},
   "outputs": [],
   "source": []
  },
  {
   "cell_type": "code",
   "execution_count": null,
   "metadata": {},
   "outputs": [],
   "source": []
  },
  {
   "cell_type": "code",
   "execution_count": 44,
   "metadata": {},
   "outputs": [
    {
     "data": {
      "text/plain": [
       "1    47.04\n",
       "2    29.91\n",
       "0    23.05\n",
       "Name: MaritalStatus, dtype: float64"
      ]
     },
     "execution_count": 44,
     "metadata": {},
     "output_type": "execute_result"
    }
   ],
   "source": [
    "round((df0[\"MaritalStatus\"].value_counts()/len(df0))*100, 2)"
   ]
  },
  {
   "cell_type": "code",
   "execution_count": 45,
   "metadata": {},
   "outputs": [
    {
     "data": {
      "text/plain": [
       "1    49.70\n",
       "2    30.54\n",
       "0    19.76\n",
       "Name: MaritalStatus, dtype: float64"
      ]
     },
     "execution_count": 45,
     "metadata": {},
     "output_type": "execute_result"
    }
   ],
   "source": [
    "round((df1[\"MaritalStatus\"].value_counts()/len(df1))*100, 2)"
   ]
  },
  {
   "cell_type": "code",
   "execution_count": 46,
   "metadata": {},
   "outputs": [
    {
     "data": {
      "text/plain": [
       "1    42.83\n",
       "2    34.98\n",
       "0    22.20\n",
       "Name: MaritalStatus, dtype: float64"
      ]
     },
     "execution_count": 46,
     "metadata": {},
     "output_type": "execute_result"
    }
   ],
   "source": [
    "round((df2[\"MaritalStatus\"].value_counts()/len(df2))*100, 2)"
   ]
  },
  {
   "cell_type": "code",
   "execution_count": null,
   "metadata": {},
   "outputs": [],
   "source": []
  }
 ],
 "metadata": {
  "kernelspec": {
   "display_name": "Python 3",
   "language": "python",
   "name": "python3"
  },
  "language_info": {
   "codemirror_mode": {
    "name": "ipython",
    "version": 3
   },
   "file_extension": ".py",
   "mimetype": "text/x-python",
   "name": "python",
   "nbconvert_exporter": "python",
   "pygments_lexer": "ipython3",
   "version": "3.8.5"
  }
 },
 "nbformat": 4,
 "nbformat_minor": 4
}
