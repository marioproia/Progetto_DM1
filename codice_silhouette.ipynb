{
 "cells": [
  {
   "cell_type": "code",
   "execution_count": null,
   "metadata": {},
   "outputs": [],
   "source": [
    "from sklearn.metrics import silhouette_samples,silhouette_score\n",
    "\n",
    "fig, ax = plt.subplots()\n",
    "y_predict = kmeans.fit_predict(df)\n",
    "silhouette_vals = silhouette_samples(df,y_predict)\n",
    "# silhouette plot\n",
    "y_ticks = []\n",
    "y_lower = y_upper = 0\n",
    "for i,cluster in enumerate(np.unique(y_predict)):\n",
    "    cluster_silhouette_vals = silhouette_vals[y_predict ==cluster]\n",
    "    cluster_silhouette_vals.sort()\n",
    "    y_upper += len(cluster_silhouette_vals)\n",
    "    \n",
    "ax.barh(range(y_lower,y_upper), cluster_silhouette_vals,color=kmeans.labels_,height =1, alpha=0.8);\n",
    "    #ax.text(-0.03,(y_lower+y_upper)/2,str(i+1), fontsize=15)\n",
    "    y_lower += len(cluster_silhouette_vals)\n",
    "    \n",
    "    avg_score = np.mean(silhouette_vals)\n",
    "    ax.axvline(avg_score,linestyle ='--',\n",
    "                  linewidth =2,color = 'green')\n",
    "ax.set_yticks([])\n",
    "    ax.set_xlim([-0.1, 1])\n",
    "    ax.set_xlabel('Silhouette coefficient values', fontsize=17)\n",
    "    ax.set_ylabel('Clusters', fontsize=17)\n",
    "    #ax.set_title('Silhouette plot for the various clusters');\n",
    "    ax.tick_params(axis='y', labelsize=20)\n",
    "    ax.tick_params(axis='x', labelsize=20)\n",
    "    \n",
    "plt.tight_layout()"
   ]
  }
 ],
 "metadata": {
  "kernelspec": {
   "display_name": "Python 3",
   "language": "python",
   "name": "python3"
  },
  "language_info": {
   "codemirror_mode": {
    "name": "ipython",
    "version": 3
   },
   "file_extension": ".py",
   "mimetype": "text/x-python",
   "name": "python",
   "nbconvert_exporter": "python",
   "pygments_lexer": "ipython3",
   "version": "3.8.5"
  }
 },
 "nbformat": 4,
 "nbformat_minor": 4
}
